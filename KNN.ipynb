{
 "cells": [
  {
   "cell_type": "markdown",
   "metadata": {},
   "source": [
    "# KNN（K近邻）"
   ]
  },
  {
   "cell_type": "markdown",
   "metadata": {},
   "source": [
    "## K - 取样数；NN - 距离计算（eg. 欧拉距离）"
   ]
  },
  {
   "cell_type": "markdown",
   "metadata": {},
   "source": [
    "## 一、KNN介绍"
   ]
  },
  {
   "cell_type": "code",
   "execution_count": 1,
   "metadata": {},
   "outputs": [],
   "source": [
    "import numpy as np\n",
    "import matplotlib.pyplot as plt"
   ]
  },
  {
   "cell_type": "code",
   "execution_count": 2,
   "metadata": {},
   "outputs": [],
   "source": [
    "raw_data_X = [\n",
    "    [3.3935, 2.3312],\n",
    "    [3.1101, 1.7815],\n",
    "    [1.3438, 3.3684],\n",
    "    [3.5823, 4.6792],\n",
    "    [2.2804, 2.8670],\n",
    "    [7.4234, 4.6965],\n",
    "    [5.7451, 3.5340],\n",
    "    [9.1722, 2.5111],\n",
    "    [7.7928, 3.4241],\n",
    "    [7.9398, 0.7916]\n",
    "]\n",
    "raw_data_Y = [0, 0, 0, 0, 0, 1, 1, 1, 1, 1]"
   ]
  },
  {
   "cell_type": "code",
   "execution_count": 3,
   "metadata": {},
   "outputs": [],
   "source": [
    "x_train = np.array(raw_data_X)\n",
    "y_train = np.array(raw_data_Y)"
   ]
  },
  {
   "cell_type": "code",
   "execution_count": 4,
   "metadata": {},
   "outputs": [
    {
     "data": {
      "text/plain": [
       "array([[3.3935, 2.3312],\n",
       "       [3.1101, 1.7815],\n",
       "       [1.3438, 3.3684],\n",
       "       [3.5823, 4.6792],\n",
       "       [2.2804, 2.867 ],\n",
       "       [7.4234, 4.6965],\n",
       "       [5.7451, 3.534 ],\n",
       "       [9.1722, 2.5111],\n",
       "       [7.7928, 3.4241],\n",
       "       [7.9398, 0.7916]])"
      ]
     },
     "execution_count": 4,
     "metadata": {},
     "output_type": "execute_result"
    }
   ],
   "source": [
    "x_train"
   ]
  },
  {
   "cell_type": "code",
   "execution_count": 5,
   "metadata": {},
   "outputs": [
    {
     "data": {
      "text/plain": [
       "array([0, 0, 0, 0, 0, 1, 1, 1, 1, 1])"
      ]
     },
     "execution_count": 5,
     "metadata": {},
     "output_type": "execute_result"
    }
   ],
   "source": [
    "y_train"
   ]
  },
  {
   "cell_type": "code",
   "execution_count": 6,
   "metadata": {},
   "outputs": [
    {
     "data": {
      "image/png": "[encoded data removed]",
      "text/plain": [
       "<Figure size 432x288 with 1 Axes>"
      ]
     },
     "metadata": {
      "needs_background": "light"
     },
     "output_type": "display_data"
    }
   ],
   "source": [
    "plt.scatter(x_train[y_train==0, 0], x_train[y_train==0, 1], color='g')\n",
    "plt.scatter(x_train[y_train==1, 0], x_train[y_train==1, 1], color='r')\n",
    "plt.show()"
   ]
  },
  {
   "cell_type": "code",
   "execution_count": 7,
   "metadata": {},
   "outputs": [],
   "source": [
    "x = np.array([8.0936, 3.3657])"
   ]
  },
  {
   "cell_type": "code",
   "execution_count": 8,
   "metadata": {},
   "outputs": [
    {
     "data": {
      "image/png": "[encoded data removed]",
      "text/plain": [
       "<Figure size 432x288 with 1 Axes>"
      ]
     },
     "metadata": {
      "needs_background": "light"
     },
     "output_type": "display_data"
    }
   ],
   "source": [
    "plt.scatter(x_train[y_train==0, 0], x_train[y_train==0, 1], color='g')\n",
    "plt.scatter(x_train[y_train==1, 0], x_train[y_train==1, 1], color='r')\n",
    "plt.scatter(x[0], x[1], color='b')\n",
    "plt.show()"
   ]
  },
  {
   "cell_type": "markdown",
   "metadata": {},
   "source": [
    "### KNN的过程"
   ]
  },
  {
   "cell_type": "code",
   "execution_count": 9,
   "metadata": {},
   "outputs": [],
   "source": [
    "from math import sqrt\n",
    "distances = []\n",
    "for x_ele in x_train:\n",
    "    d = sqrt(np.sum((x_ele - x)**2))\n",
    "    distances.append(d)"
   ]
  },
  {
   "cell_type": "code",
   "execution_count": 10,
   "metadata": {},
   "outputs": [
    {
     "data": {
      "text/plain": [
       "[4.81260119478022,\n",
       " 5.229241043401997,\n",
       " 6.749800540015979,\n",
       " 4.698628516918528,\n",
       " 5.834551904816684,\n",
       " 1.4900324425998253,\n",
       " 2.354522698977439,\n",
       " 1.3761246745843922,\n",
       " 0.30641670972713025,\n",
       " 2.578690607653427]"
      ]
     },
     "execution_count": 10,
     "metadata": {},
     "output_type": "execute_result"
    }
   ],
   "source": [
    "distances"
   ]
  },
  {
   "cell_type": "code",
   "execution_count": 11,
   "metadata": {},
   "outputs": [],
   "source": [
    "distances = [sqrt(np.sum((x_ele - x) ** 2)) for x_ele in x_train]"
   ]
  },
  {
   "cell_type": "code",
   "execution_count": 12,
   "metadata": {},
   "outputs": [
    {
     "data": {
      "text/plain": [
       "[4.81260119478022,\n",
       " 5.229241043401997,\n",
       " 6.749800540015979,\n",
       " 4.698628516918528,\n",
       " 5.834551904816684,\n",
       " 1.4900324425998253,\n",
       " 2.354522698977439,\n",
       " 1.3761246745843922,\n",
       " 0.30641670972713025,\n",
       " 2.578690607653427]"
      ]
     },
     "execution_count": 12,
     "metadata": {},
     "output_type": "execute_result"
    }
   ],
   "source": [
    "distances"
   ]
  },
  {
   "cell_type": "code",
   "execution_count": 13,
   "metadata": {},
   "outputs": [
    {
     "data": {
      "text/plain": [
       "array([8, 7, 5, 6, 9, 3, 0, 1, 4, 2], dtype=int64)"
      ]
     },
     "execution_count": 13,
     "metadata": {},
     "output_type": "execute_result"
    }
   ],
   "source": [
    "np.argsort(distances)"
   ]
  },
  {
   "cell_type": "code",
   "execution_count": 14,
   "metadata": {},
   "outputs": [],
   "source": [
    "nearest = np.argsort(distances)\n",
    "k = 6"
   ]
  },
  {
   "cell_type": "code",
   "execution_count": 15,
   "metadata": {},
   "outputs": [],
   "source": [
    "topK_y = [y_train[i] for i in nearest[:k]]"
   ]
  },
  {
   "cell_type": "code",
   "execution_count": 16,
   "metadata": {},
   "outputs": [
    {
     "data": {
      "text/plain": [
       "[1, 1, 1, 1, 1, 0]"
      ]
     },
     "execution_count": 16,
     "metadata": {},
     "output_type": "execute_result"
    }
   ],
   "source": [
    "topK_y"
   ]
  },
  {
   "cell_type": "code",
   "execution_count": 17,
   "metadata": {},
   "outputs": [
    {
     "data": {
      "text/plain": [
       "Counter({1: 5, 0: 1})"
      ]
     },
     "execution_count": 17,
     "metadata": {},
     "output_type": "execute_result"
    }
   ],
   "source": [
    "from collections import Counter\n",
    "Counter(topK_y)"
   ]
  },
  {
   "cell_type": "code",
   "execution_count": 18,
   "metadata": {},
   "outputs": [],
   "source": [
    "votes = Counter(topK_y)"
   ]
  },
  {
   "cell_type": "code",
   "execution_count": 19,
   "metadata": {},
   "outputs": [
    {
     "data": {
      "text/plain": [
       "[(1, 5), (0, 1)]"
      ]
     },
     "execution_count": 19,
     "metadata": {},
     "output_type": "execute_result"
    }
   ],
   "source": [
    "votes.most_common(2)"
   ]
  },
  {
   "cell_type": "code",
   "execution_count": 20,
   "metadata": {},
   "outputs": [
    {
     "data": {
      "text/plain": [
       "1"
      ]
     },
     "execution_count": 20,
     "metadata": {},
     "output_type": "execute_result"
    }
   ],
   "source": [
    "votes.most_common(1)[0][0]"
   ]
  },
  {
   "cell_type": "code",
   "execution_count": 21,
   "metadata": {},
   "outputs": [
    {
     "data": {
      "text/plain": [
       "1"
      ]
     },
     "execution_count": 21,
     "metadata": {},
     "output_type": "execute_result"
    }
   ],
   "source": [
    "predict_y = votes.most_common(1)[0][0]\n",
    "predict_y"
   ]
  },
  {
   "cell_type": "markdown",
   "metadata": {},
   "source": [
    "### KNN的说明"
   ]
  },
  {
   "cell_type": "markdown",
   "metadata": {},
   "source": [
    "##### K近邻算法是非常特殊的，可以被认为是没有模型的算法，为和其他算法统一，可以认为训练数据集就是模型本身"
   ]
  },
  {
   "cell_type": "markdown",
   "metadata": {},
   "source": [
    "### 使用scikit-learn中的KNN"
   ]
  },
  {
   "cell_type": "code",
   "execution_count": 22,
   "metadata": {},
   "outputs": [],
   "source": [
    "from sklearn.neighbors import KNeighborsClassifier"
   ]
  },
  {
   "cell_type": "code",
   "execution_count": 23,
   "metadata": {},
   "outputs": [],
   "source": [
    "kNN_classifier = KNeighborsClassifier(n_neighbors=6)"
   ]
  },
  {
   "cell_type": "code",
   "execution_count": 24,
   "metadata": {},
   "outputs": [
    {
     "data": {
      "text/plain": [
       "KNeighborsClassifier(algorithm='auto', leaf_size=30, metric='minkowski',\n",
       "                     metric_params=None, n_jobs=None, n_neighbors=6, p=2,\n",
       "                     weights='uniform')"
      ]
     },
     "execution_count": 24,
     "metadata": {},
     "output_type": "execute_result"
    }
   ],
   "source": [
    "kNN_classifier.fit(x_train, y_train)"
   ]
  },
  {
   "cell_type": "code",
   "execution_count": 25,
   "metadata": {
    "scrolled": true
   },
   "outputs": [
    {
     "data": {
      "text/plain": [
       "array([1])"
      ]
     },
     "execution_count": 25,
     "metadata": {},
     "output_type": "execute_result"
    }
   ],
   "source": [
    "x_predict = x.reshape(1, -1)\n",
    "kNN_classifier.predict(x_predict)"
   ]
  },
  {
   "cell_type": "code",
   "execution_count": 26,
   "metadata": {},
   "outputs": [
    {
     "data": {
      "text/plain": [
       "1"
      ]
     },
     "execution_count": 26,
     "metadata": {},
     "output_type": "execute_result"
    }
   ],
   "source": [
    "y_predict = kNN_classifier.predict(x_predict)\n",
    "y_predict[0]"
   ]
  },
  {
   "cell_type": "markdown",
   "metadata": {},
   "source": [
    "### 使用自己的KNN算法"
   ]
  },
  {
   "cell_type": "code",
   "execution_count": 27,
   "metadata": {},
   "outputs": [],
   "source": [
    "%run D://资料//程序//Python//Machine_Learn//KNN//knn_classifier.py"
   ]
  },
  {
   "cell_type": "code",
   "execution_count": 28,
   "metadata": {},
   "outputs": [],
   "source": [
    "knn_clf = KNNClassifier(k=6)"
   ]
  },
  {
   "cell_type": "code",
   "execution_count": 29,
   "metadata": {},
   "outputs": [
    {
     "data": {
      "text/plain": [
       "KNN(k=6)"
      ]
     },
     "execution_count": 29,
     "metadata": {},
     "output_type": "execute_result"
    }
   ],
   "source": [
    "knn_clf.fit(x_train, y_train)"
   ]
  },
  {
   "cell_type": "code",
   "execution_count": 30,
   "metadata": {},
   "outputs": [],
   "source": [
    "y_predict = knn_clf.predict(x_predict)"
   ]
  },
  {
   "cell_type": "code",
   "execution_count": 31,
   "metadata": {},
   "outputs": [
    {
     "data": {
      "text/plain": [
       "array([1])"
      ]
     },
     "execution_count": 31,
     "metadata": {},
     "output_type": "execute_result"
    }
   ],
   "source": [
    "y_predict"
   ]
  },
  {
   "cell_type": "code",
   "execution_count": 32,
   "metadata": {},
   "outputs": [
    {
     "data": {
      "text/plain": [
       "1"
      ]
     },
     "execution_count": 32,
     "metadata": {},
     "output_type": "execute_result"
    }
   ],
   "source": [
    "y_predict[0]"
   ]
  },
  {
   "cell_type": "markdown",
   "metadata": {},
   "source": [
    "# 二、训练集和测试集拆分"
   ]
  },
  {
   "cell_type": "code",
   "execution_count": 33,
   "metadata": {},
   "outputs": [],
   "source": [
    "import numpy as np\n",
    "import matplotlib.pyplot as plt\n",
    "from sklearn import datasets"
   ]
  },
  {
   "cell_type": "code",
   "execution_count": 34,
   "metadata": {},
   "outputs": [],
   "source": [
    "iris = datasets.load_iris()"
   ]
  },
  {
   "cell_type": "code",
   "execution_count": 35,
   "metadata": {},
   "outputs": [],
   "source": [
    "X = iris.data\n",
    "y = iris.target"
   ]
  },
  {
   "cell_type": "code",
   "execution_count": 36,
   "metadata": {},
   "outputs": [
    {
     "data": {
      "text/plain": [
       "(150, 4)"
      ]
     },
     "execution_count": 36,
     "metadata": {},
     "output_type": "execute_result"
    }
   ],
   "source": [
    "X.shape"
   ]
  },
  {
   "cell_type": "code",
   "execution_count": 37,
   "metadata": {},
   "outputs": [
    {
     "data": {
      "text/plain": [
       "(150,)"
      ]
     },
     "execution_count": 37,
     "metadata": {},
     "output_type": "execute_result"
    }
   ],
   "source": [
    "y.shape"
   ]
  },
  {
   "cell_type": "markdown",
   "metadata": {},
   "source": [
    "## train_test_split"
   ]
  },
  {
   "cell_type": "code",
   "execution_count": 38,
   "metadata": {},
   "outputs": [
    {
     "data": {
      "text/plain": [
       "array([0, 0, 0, 0, 0, 0, 0, 0, 0, 0, 0, 0, 0, 0, 0, 0, 0, 0, 0, 0, 0, 0,\n",
       "       0, 0, 0, 0, 0, 0, 0, 0, 0, 0, 0, 0, 0, 0, 0, 0, 0, 0, 0, 0, 0, 0,\n",
       "       0, 0, 0, 0, 0, 0, 1, 1, 1, 1, 1, 1, 1, 1, 1, 1, 1, 1, 1, 1, 1, 1,\n",
       "       1, 1, 1, 1, 1, 1, 1, 1, 1, 1, 1, 1, 1, 1, 1, 1, 1, 1, 1, 1, 1, 1,\n",
       "       1, 1, 1, 1, 1, 1, 1, 1, 1, 1, 1, 1, 2, 2, 2, 2, 2, 2, 2, 2, 2, 2,\n",
       "       2, 2, 2, 2, 2, 2, 2, 2, 2, 2, 2, 2, 2, 2, 2, 2, 2, 2, 2, 2, 2, 2,\n",
       "       2, 2, 2, 2, 2, 2, 2, 2, 2, 2, 2, 2, 2, 2, 2, 2, 2, 2])"
      ]
     },
     "execution_count": 38,
     "metadata": {},
     "output_type": "execute_result"
    }
   ],
   "source": [
    "y"
   ]
  },
  {
   "cell_type": "code",
   "execution_count": 39,
   "metadata": {},
   "outputs": [],
   "source": [
    "shuffle_indexes = np.random.permutation(len(X))"
   ]
  },
  {
   "cell_type": "code",
   "execution_count": 40,
   "metadata": {},
   "outputs": [
    {
     "data": {
      "text/plain": [
       "array([ 17, 123,  22,  97, 132, 111,  67,  11,  84,  16,  74,  44,  64,\n",
       "         3, 143, 105,  68, 100, 140, 135, 114,  39,  30,  53,  25,  71,\n",
       "        86, 108, 128,  31,  78,  79, 127,  88, 117, 129,  13,  35, 103,\n",
       "         2,  90,  15, 104, 116,   7, 118,  72,   9,  36,  51,  45,  49,\n",
       "       136, 125,  32,  52,  48,   4, 131,  18,  28,  29,  33,  62, 112,\n",
       "       145,  34,  20,  57,  87,  69, 148, 138,  23,   0,  43, 119,  83,\n",
       "       109,   5,  26, 146,  61,  50,  42,  19, 139,  65,  46,  91, 147,\n",
       "       141, 107,   1, 137,  93,  77, 149, 130,  58,  56, 106, 144, 121,\n",
       "        70,   6, 101,  76,  98, 102,  99, 110,  55,  40,  82, 115,  94,\n",
       "        37,  21,  75,  12,  60, 133,  47,  73,  38,  41, 122,  96, 120,\n",
       "         8,  63, 124,  14,  27,  24,  81,  54,  92,  66, 113,  10, 134,\n",
       "       142,  95,  59,  85, 126,  80,  89])"
      ]
     },
     "execution_count": 40,
     "metadata": {},
     "output_type": "execute_result"
    }
   ],
   "source": [
    "shuffle_indexes"
   ]
  },
  {
   "cell_type": "code",
   "execution_count": 41,
   "metadata": {},
   "outputs": [],
   "source": [
    "test_ratio = 0.2\n",
    "test_size = int(len(X) * test_ratio)"
   ]
  },
  {
   "cell_type": "code",
   "execution_count": 42,
   "metadata": {},
   "outputs": [
    {
     "data": {
      "text/plain": [
       "30"
      ]
     },
     "execution_count": 42,
     "metadata": {},
     "output_type": "execute_result"
    }
   ],
   "source": [
    "test_size"
   ]
  },
  {
   "cell_type": "code",
   "execution_count": 43,
   "metadata": {},
   "outputs": [],
   "source": [
    "test_indexes = shuffle_indexes[:test_size]\n",
    "train_indexes = shuffle_indexes[test_size:]"
   ]
  },
  {
   "cell_type": "code",
   "execution_count": 44,
   "metadata": {},
   "outputs": [],
   "source": [
    "X_train = X[train_indexes]\n",
    "y_train = y[train_indexes]\n",
    "\n",
    "X_test = X[test_indexes]\n",
    "y_test = y[test_indexes]"
   ]
  },
  {
   "cell_type": "code",
   "execution_count": 45,
   "metadata": {},
   "outputs": [
    {
     "name": "stdout",
     "output_type": "stream",
     "text": [
      "(120, 4)\n",
      "(120,)\n"
     ]
    }
   ],
   "source": [
    "print(X_train.shape)\n",
    "print(y_train.shape)"
   ]
  },
  {
   "cell_type": "code",
   "execution_count": 46,
   "metadata": {},
   "outputs": [
    {
     "name": "stdout",
     "output_type": "stream",
     "text": [
      "(30, 4)\n",
      "(30,)\n"
     ]
    }
   ],
   "source": [
    "print(X_test.shape)\n",
    "print(y_test.shape)"
   ]
  },
  {
   "cell_type": "markdown",
   "metadata": {},
   "source": [
    "### 使用自己的train_test_split算法"
   ]
  },
  {
   "cell_type": "code",
   "execution_count": 47,
   "metadata": {},
   "outputs": [],
   "source": [
    "%run D://资料//程序//Python//Machine_Learn//Preprocess//model_selection.py"
   ]
  },
  {
   "cell_type": "code",
   "execution_count": 48,
   "metadata": {},
   "outputs": [],
   "source": [
    "X_train, X_test, y_train, y_test = train_test_split(X, y)"
   ]
  },
  {
   "cell_type": "code",
   "execution_count": 49,
   "metadata": {},
   "outputs": [
    {
     "name": "stdout",
     "output_type": "stream",
     "text": [
      "(120, 4)\n",
      "(120,)\n",
      "(30, 4)\n",
      "(30,)\n"
     ]
    }
   ],
   "source": [
    "print(X_train.shape)\n",
    "print(y_train.shape)\n",
    "\n",
    "print(X_test.shape)\n",
    "print(y_test.shape)"
   ]
  },
  {
   "cell_type": "code",
   "execution_count": 50,
   "metadata": {},
   "outputs": [
    {
     "data": {
      "text/plain": [
       "KNN(k=3)"
      ]
     },
     "execution_count": 50,
     "metadata": {},
     "output_type": "execute_result"
    }
   ],
   "source": [
    "my_knn_clf = KNNClassifier(k=3)\n",
    "my_knn_clf.fit(X_train, y_train)"
   ]
  },
  {
   "cell_type": "code",
   "execution_count": 51,
   "metadata": {},
   "outputs": [],
   "source": [
    "y_predict = my_knn_clf.predict(X_test)"
   ]
  },
  {
   "cell_type": "code",
   "execution_count": 52,
   "metadata": {},
   "outputs": [
    {
     "data": {
      "text/plain": [
       "array([2, 1, 1, 2, 1, 0, 0, 0, 2, 0, 0, 1, 2, 1, 1, 0, 1, 0, 2, 0, 0, 2,\n",
       "       0, 2, 2, 0, 1, 2, 0, 0])"
      ]
     },
     "execution_count": 52,
     "metadata": {},
     "output_type": "execute_result"
    }
   ],
   "source": [
    "y_predict"
   ]
  },
  {
   "cell_type": "code",
   "execution_count": 53,
   "metadata": {},
   "outputs": [
    {
     "data": {
      "text/plain": [
       "array([2, 1, 1, 2, 1, 0, 0, 0, 2, 0, 0, 1, 2, 1, 1, 0, 1, 0, 2, 0, 0, 2,\n",
       "       0, 2, 2, 0, 1, 2, 0, 0])"
      ]
     },
     "execution_count": 53,
     "metadata": {},
     "output_type": "execute_result"
    }
   ],
   "source": [
    "y_test"
   ]
  },
  {
   "cell_type": "code",
   "execution_count": 54,
   "metadata": {},
   "outputs": [
    {
     "data": {
      "text/plain": [
       "30"
      ]
     },
     "execution_count": 54,
     "metadata": {},
     "output_type": "execute_result"
    }
   ],
   "source": [
    "np.sum(y_predict == y_test)"
   ]
  },
  {
   "cell_type": "code",
   "execution_count": 55,
   "metadata": {},
   "outputs": [
    {
     "data": {
      "text/plain": [
       "1.0"
      ]
     },
     "execution_count": 55,
     "metadata": {},
     "output_type": "execute_result"
    }
   ],
   "source": [
    "np.sum(y_predict == y_test) / len(y_test)"
   ]
  },
  {
   "cell_type": "markdown",
   "metadata": {},
   "source": [
    "### sklearn中的train_test_split算法"
   ]
  },
  {
   "cell_type": "code",
   "execution_count": 56,
   "metadata": {},
   "outputs": [],
   "source": [
    "from sklearn.model_selection import train_test_split"
   ]
  },
  {
   "cell_type": "code",
   "execution_count": 57,
   "metadata": {},
   "outputs": [],
   "source": [
    "X_train, X_test, y_train, y_test = train_test_split(X, y, test_size=0.2)"
   ]
  },
  {
   "cell_type": "code",
   "execution_count": 58,
   "metadata": {},
   "outputs": [
    {
     "name": "stdout",
     "output_type": "stream",
     "text": [
      "(120, 4)\n",
      "(120,)\n",
      "(30, 4)\n",
      "(30,)\n"
     ]
    }
   ],
   "source": [
    "print(X_train.shape)\n",
    "print(y_train.shape)\n",
    "\n",
    "print(X_test.shape)\n",
    "print(y_test.shape)"
   ]
  },
  {
   "cell_type": "code",
   "execution_count": 59,
   "metadata": {},
   "outputs": [
    {
     "data": {
      "text/plain": [
       "array([1, 1, 1, 0, 0, 2, 2, 1, 0, 0, 1, 1, 0, 2, 0, 1, 2, 2, 1, 2, 2, 2,\n",
       "       2, 1, 0, 0, 1, 1, 1, 2])"
      ]
     },
     "execution_count": 59,
     "metadata": {},
     "output_type": "execute_result"
    }
   ],
   "source": [
    "kNN_classifier.fit(X_train, y_train)\n",
    "y_predict = kNN_classifier.predict(X_test)\n",
    "y_predict"
   ]
  },
  {
   "cell_type": "code",
   "execution_count": 60,
   "metadata": {},
   "outputs": [
    {
     "data": {
      "text/plain": [
       "array([1, 1, 1, 0, 0, 2, 2, 1, 0, 0, 2, 1, 0, 2, 0, 1, 2, 2, 1, 2, 2, 2,\n",
       "       2, 1, 0, 0, 1, 1, 2, 2])"
      ]
     },
     "execution_count": 60,
     "metadata": {},
     "output_type": "execute_result"
    }
   ],
   "source": [
    "y_test"
   ]
  },
  {
   "cell_type": "code",
   "execution_count": 63,
   "metadata": {},
   "outputs": [
    {
     "data": {
      "text/plain": [
       "0.9333333333333333"
      ]
     },
     "execution_count": 63,
     "metadata": {},
     "output_type": "execute_result"
    }
   ],
   "source": [
    "np.sum(y_predict == y_test) / len(y_test)"
   ]
  },
  {
   "cell_type": "markdown",
   "metadata": {},
   "source": [
    "# 三、分类准确度"
   ]
  },
  {
   "cell_type": "code",
   "execution_count": 64,
   "metadata": {},
   "outputs": [],
   "source": [
    "import numpy as np\n",
    "import matplotlib\n",
    "import matplotlib.pyplot as plt\n",
    "from sklearn import datasets"
   ]
  },
  {
   "cell_type": "code",
   "execution_count": 65,
   "metadata": {},
   "outputs": [],
   "source": [
    "digits = datasets.load_digits()"
   ]
  },
  {
   "cell_type": "code",
   "execution_count": 66,
   "metadata": {},
   "outputs": [
    {
     "data": {
      "text/plain": [
       "dict_keys(['data', 'target', 'target_names', 'images', 'DESCR'])"
      ]
     },
     "execution_count": 66,
     "metadata": {},
     "output_type": "execute_result"
    }
   ],
   "source": [
    "digits.keys()"
   ]
  },
  {
   "cell_type": "code",
   "execution_count": 67,
   "metadata": {},
   "outputs": [
    {
     "name": "stdout",
     "output_type": "stream",
     "text": [
      ".. _digits_dataset:\n",
      "\n",
      "Optical recognition of handwritten digits dataset\n",
      "--------------------------------------------------\n",
      "\n",
      "**Data Set Characteristics:**\n",
      "\n",
      "    :Number of Instances: 5620\n",
      "    :Number of Attributes: 64\n",
      "    :Attribute Information: 8x8 image of integer pixels in the range 0..16.\n",
      "    :Missing Attribute Values: None\n",
      "    :Creator: E. Alpaydin (alpaydin '@' boun.edu.tr)\n",
      "    :Date: July; 1998\n",
      "\n",
      "This is a copy of the test set of the UCI ML hand-written digits datasets\n",
      "https://archive.ics.uci.edu/ml/datasets/Optical+Recognition+of+Handwritten+Digits\n",
      "\n",
      "The data set contains images of hand-written digits: 10 classes where\n",
      "each class refers to a digit.\n",
      "\n",
      "Preprocessing programs made available by NIST were used to extract\n",
      "normalized bitmaps of handwritten digits from a preprinted form. From a\n",
      "total of 43 people, 30 contributed to the training set and different 13\n",
      "to the test set. 32x32 bitmaps are divided into nonoverlapping blocks of\n",
      "4x4 and the number of on pixels are counted in each block. This generates\n",
      "an input matrix of 8x8 where each element is an integer in the range\n",
      "0..16. This reduces dimensionality and gives invariance to small\n",
      "distortions.\n",
      "\n",
      "For info on NIST preprocessing routines, see M. D. Garris, J. L. Blue, G.\n",
      "T. Candela, D. L. Dimmick, J. Geist, P. J. Grother, S. A. Janet, and C.\n",
      "L. Wilson, NIST Form-Based Handprint Recognition System, NISTIR 5469,\n",
      "1994.\n",
      "\n",
      ".. topic:: References\n",
      "\n",
      "  - C. Kaynak (1995) Methods of Combining Multiple Classifiers and Their\n",
      "    Applications to Handwritten Digit Recognition, MSc Thesis, Institute of\n",
      "    Graduate Studies in Science and Engineering, Bogazici University.\n",
      "  - E. Alpaydin, C. Kaynak (1998) Cascading Classifiers, Kybernetika.\n",
      "  - Ken Tang and Ponnuthurai N. Suganthan and Xi Yao and A. Kai Qin.\n",
      "    Linear dimensionalityreduction using relevance weighted LDA. School of\n",
      "    Electrical and Electronic Engineering Nanyang Technological University.\n",
      "    2005.\n",
      "  - Claudio Gentile. A New Approximate Maximal Margin Classification\n",
      "    Algorithm. NIPS. 2000.\n"
     ]
    }
   ],
   "source": [
    "print(digits.DESCR)"
   ]
  },
  {
   "cell_type": "code",
   "execution_count": 68,
   "metadata": {},
   "outputs": [
    {
     "data": {
      "text/plain": [
       "(1797, 64)"
      ]
     },
     "execution_count": 68,
     "metadata": {},
     "output_type": "execute_result"
    }
   ],
   "source": [
    "X = digits.data\n",
    "X.shape"
   ]
  },
  {
   "cell_type": "code",
   "execution_count": 69,
   "metadata": {},
   "outputs": [
    {
     "data": {
      "text/plain": [
       "(1797,)"
      ]
     },
     "execution_count": 69,
     "metadata": {},
     "output_type": "execute_result"
    }
   ],
   "source": [
    "y = digits.target\n",
    "y.shape"
   ]
  },
  {
   "cell_type": "code",
   "execution_count": 70,
   "metadata": {},
   "outputs": [
    {
     "data": {
      "text/plain": [
       "array([0, 1, 2, 3, 4, 5, 6, 7, 8, 9])"
      ]
     },
     "execution_count": 70,
     "metadata": {},
     "output_type": "execute_result"
    }
   ],
   "source": [
    "digits.target_names"
   ]
  },
  {
   "cell_type": "code",
   "execution_count": 71,
   "metadata": {},
   "outputs": [
    {
     "data": {
      "text/plain": [
       "array([0, 1, 2, 3, 4, 5, 6, 7, 8, 9, 0, 1, 2, 3, 4, 5, 6, 7, 8, 9, 0, 1,\n",
       "       2, 3, 4, 5, 6, 7, 8, 9, 0, 9, 5, 5, 6, 5, 0, 9, 8, 9, 8, 4, 1, 7,\n",
       "       7, 3, 5, 1, 0, 0, 2, 2, 7, 8, 2, 0, 1, 2, 6, 3, 3, 7, 3, 3, 4, 6,\n",
       "       6, 6, 4, 9, 1, 5, 0, 9, 5, 2, 8, 2, 0, 0, 1, 7, 6, 3, 2, 1, 7, 4,\n",
       "       6, 3, 1, 3, 9, 1, 7, 6, 8, 4, 3, 1])"
      ]
     },
     "execution_count": 71,
     "metadata": {},
     "output_type": "execute_result"
    }
   ],
   "source": [
    "y[:100]"
   ]
  },
  {
   "cell_type": "code",
   "execution_count": 72,
   "metadata": {},
   "outputs": [
    {
     "data": {
      "text/plain": [
       "array([[ 0.,  0.,  5., 13.,  9.,  1.,  0.,  0.,  0.,  0., 13., 15., 10.,\n",
       "        15.,  5.,  0.,  0.,  3., 15.,  2.,  0., 11.,  8.,  0.,  0.,  4.,\n",
       "        12.,  0.,  0.,  8.,  8.,  0.,  0.,  5.,  8.,  0.,  0.,  9.,  8.,\n",
       "         0.,  0.,  4., 11.,  0.,  1., 12.,  7.,  0.,  0.,  2., 14.,  5.,\n",
       "        10., 12.,  0.,  0.,  0.,  0.,  6., 13., 10.,  0.,  0.,  0.],\n",
       "       [ 0.,  0.,  0., 12., 13.,  5.,  0.,  0.,  0.,  0.,  0., 11., 16.,\n",
       "         9.,  0.,  0.,  0.,  0.,  3., 15., 16.,  6.,  0.,  0.,  0.,  7.,\n",
       "        15., 16., 16.,  2.,  0.,  0.,  0.,  0.,  1., 16., 16.,  3.,  0.,\n",
       "         0.,  0.,  0.,  1., 16., 16.,  6.,  0.,  0.,  0.,  0.,  1., 16.,\n",
       "        16.,  6.,  0.,  0.,  0.,  0.,  0., 11., 16., 10.,  0.,  0.],\n",
       "       [ 0.,  0.,  0.,  4., 15., 12.,  0.,  0.,  0.,  0.,  3., 16., 15.,\n",
       "        14.,  0.,  0.,  0.,  0.,  8., 13.,  8., 16.,  0.,  0.,  0.,  0.,\n",
       "         1.,  6., 15., 11.,  0.,  0.,  0.,  1.,  8., 13., 15.,  1.,  0.,\n",
       "         0.,  0.,  9., 16., 16.,  5.,  0.,  0.,  0.,  0.,  3., 13., 16.,\n",
       "        16., 11.,  5.,  0.,  0.,  0.,  0.,  3., 11., 16.,  9.,  0.],\n",
       "       [ 0.,  0.,  7., 15., 13.,  1.,  0.,  0.,  0.,  8., 13.,  6., 15.,\n",
       "         4.,  0.,  0.,  0.,  2.,  1., 13., 13.,  0.,  0.,  0.,  0.,  0.,\n",
       "         2., 15., 11.,  1.,  0.,  0.,  0.,  0.,  0.,  1., 12., 12.,  1.,\n",
       "         0.,  0.,  0.,  0.,  0.,  1., 10.,  8.,  0.,  0.,  0.,  8.,  4.,\n",
       "         5., 14.,  9.,  0.,  0.,  0.,  7., 13., 13.,  9.,  0.,  0.],\n",
       "       [ 0.,  0.,  0.,  1., 11.,  0.,  0.,  0.,  0.,  0.,  0.,  7.,  8.,\n",
       "         0.,  0.,  0.,  0.,  0.,  1., 13.,  6.,  2.,  2.,  0.,  0.,  0.,\n",
       "         7., 15.,  0.,  9.,  8.,  0.,  0.,  5., 16., 10.,  0., 16.,  6.,\n",
       "         0.,  0.,  4., 15., 16., 13., 16.,  1.,  0.,  0.,  0.,  0.,  3.,\n",
       "        15., 10.,  0.,  0.,  0.,  0.,  0.,  2., 16.,  4.,  0.,  0.],\n",
       "       [ 0.,  0., 12., 10.,  0.,  0.,  0.,  0.,  0.,  0., 14., 16., 16.,\n",
       "        14.,  0.,  0.,  0.,  0., 13., 16., 15., 10.,  1.,  0.,  0.,  0.,\n",
       "        11., 16., 16.,  7.,  0.,  0.,  0.,  0.,  0.,  4.,  7., 16.,  7.,\n",
       "         0.,  0.,  0.,  0.,  0.,  4., 16.,  9.,  0.,  0.,  0.,  5.,  4.,\n",
       "        12., 16.,  4.,  0.,  0.,  0.,  9., 16., 16., 10.,  0.,  0.],\n",
       "       [ 0.,  0.,  0., 12., 13.,  0.,  0.,  0.,  0.,  0.,  5., 16.,  8.,\n",
       "         0.,  0.,  0.,  0.,  0., 13., 16.,  3.,  0.,  0.,  0.,  0.,  0.,\n",
       "        14., 13.,  0.,  0.,  0.,  0.,  0.,  0., 15., 12.,  7.,  2.,  0.,\n",
       "         0.,  0.,  0., 13., 16., 13., 16.,  3.,  0.,  0.,  0.,  7., 16.,\n",
       "        11., 15.,  8.,  0.,  0.,  0.,  1.,  9., 15., 11.,  3.,  0.],\n",
       "       [ 0.,  0.,  7.,  8., 13., 16., 15.,  1.,  0.,  0.,  7.,  7.,  4.,\n",
       "        11., 12.,  0.,  0.,  0.,  0.,  0.,  8., 13.,  1.,  0.,  0.,  4.,\n",
       "         8.,  8., 15., 15.,  6.,  0.,  0.,  2., 11., 15., 15.,  4.,  0.,\n",
       "         0.,  0.,  0.,  0., 16.,  5.,  0.,  0.,  0.,  0.,  0.,  9., 15.,\n",
       "         1.,  0.,  0.,  0.,  0.,  0., 13.,  5.,  0.,  0.,  0.,  0.],\n",
       "       [ 0.,  0.,  9., 14.,  8.,  1.,  0.,  0.,  0.,  0., 12., 14., 14.,\n",
       "        12.,  0.,  0.,  0.,  0.,  9., 10.,  0., 15.,  4.,  0.,  0.,  0.,\n",
       "         3., 16., 12., 14.,  2.,  0.,  0.,  0.,  4., 16., 16.,  2.,  0.,\n",
       "         0.,  0.,  3., 16.,  8., 10., 13.,  2.,  0.,  0.,  1., 15.,  1.,\n",
       "         3., 16.,  8.,  0.,  0.,  0., 11., 16., 15., 11.,  1.,  0.],\n",
       "       [ 0.,  0., 11., 12.,  0.,  0.,  0.,  0.,  0.,  2., 16., 16., 16.,\n",
       "        13.,  0.,  0.,  0.,  3., 16., 12., 10., 14.,  0.,  0.,  0.,  1.,\n",
       "        16.,  1., 12., 15.,  0.,  0.,  0.,  0., 13., 16.,  9., 15.,  2.,\n",
       "         0.,  0.,  0.,  0.,  3.,  0.,  9., 11.,  0.,  0.,  0.,  0.,  0.,\n",
       "         9., 15.,  4.,  0.,  0.,  0.,  9., 12., 13.,  3.,  0.,  0.]])"
      ]
     },
     "execution_count": 72,
     "metadata": {},
     "output_type": "execute_result"
    }
   ],
   "source": [
    "X[:10]"
   ]
  },
  {
   "cell_type": "code",
   "execution_count": 73,
   "metadata": {},
   "outputs": [],
   "source": [
    "some_digit = X[666]"
   ]
  },
  {
   "cell_type": "code",
   "execution_count": 74,
   "metadata": {},
   "outputs": [
    {
     "data": {
      "text/plain": [
       "0"
      ]
     },
     "execution_count": 74,
     "metadata": {},
     "output_type": "execute_result"
    }
   ],
   "source": [
    "y[666]"
   ]
  },
  {
   "cell_type": "code",
   "execution_count": 75,
   "metadata": {},
   "outputs": [
    {
     "data": {
      "image/png": "[encoded data removed]",
      "text/plain": [
       "<Figure size 432x288 with 1 Axes>"
      ]
     },
     "metadata": {
      "needs_background": "light"
     },
     "output_type": "display_data"
    }
   ],
   "source": [
    "some_digit_image = some_digit.reshape(8, 8)\n",
    "plt.imshow(some_digit_image, cmap = matplotlib.cm.binary)\n",
    "plt.show()"
   ]
  },
  {
   "cell_type": "code",
   "execution_count": 76,
   "metadata": {},
   "outputs": [],
   "source": [
    " X_train, X_test, y_train, y_test = train_test_split(X, y, test_size=0.2)"
   ]
  },
  {
   "cell_type": "code",
   "execution_count": 77,
   "metadata": {},
   "outputs": [],
   "source": [
    "my_knn_clf = KNNClassifier(k=3)"
   ]
  },
  {
   "cell_type": "code",
   "execution_count": 78,
   "metadata": {},
   "outputs": [
    {
     "data": {
      "text/plain": [
       "KNN(k=3)"
      ]
     },
     "execution_count": 78,
     "metadata": {},
     "output_type": "execute_result"
    }
   ],
   "source": [
    "my_knn_clf.fit(X_train, y_train)"
   ]
  },
  {
   "cell_type": "code",
   "execution_count": 79,
   "metadata": {},
   "outputs": [
    {
     "data": {
      "text/plain": [
       "array([5, 6, 9, 2, 6, 9, 0, 4, 4, 5, 6, 0, 2, 0, 9, 5, 2, 6, 8, 1, 9, 1,\n",
       "       3, 4, 2, 8, 5, 6, 2, 1, 0, 3, 9, 3, 9, 3, 9, 9, 6, 7, 5, 0, 3, 8,\n",
       "       6, 8, 2, 0, 0, 5, 6, 7, 8, 4, 3, 1, 4, 1, 1, 7, 3, 3, 0, 7, 2, 0,\n",
       "       8, 5, 6, 0, 6, 1, 5, 6, 1, 3, 7, 7, 6, 3, 3, 5, 0, 6, 9, 2, 6, 4,\n",
       "       3, 0, 1, 0, 9, 2, 2, 9, 9, 5, 5, 7, 2, 9, 9, 3, 2, 7, 8, 9, 0, 1,\n",
       "       2, 9, 7, 4, 2, 7, 6, 2, 6, 6, 1, 9, 6, 8, 4, 9, 0, 5, 4, 1, 3, 4,\n",
       "       5, 0, 8, 4, 6, 7, 4, 2, 8, 3, 5, 1, 1, 4, 6, 2, 1, 0, 6, 6, 5, 9,\n",
       "       4, 1, 9, 3, 0, 6, 7, 2, 2, 5, 0, 4, 4, 7, 1, 4, 6, 4, 1, 9, 9, 3,\n",
       "       8, 5, 2, 9, 2, 8, 6, 1, 5, 3, 5, 8, 8, 6, 5, 8, 3, 0, 2, 3, 3, 3,\n",
       "       8, 0, 0, 2, 3, 1, 2, 3, 3, 6, 9, 5, 9, 8, 8, 0, 3, 4, 8, 1, 6, 4,\n",
       "       7, 8, 2, 8, 1, 1, 2, 6, 7, 9, 8, 5, 6, 4, 7, 9, 1, 1, 6, 0, 6, 2,\n",
       "       3, 6, 7, 7, 6, 3, 4, 9, 5, 5, 1, 9, 4, 1, 0, 2, 1, 0, 9, 9, 7, 1,\n",
       "       3, 4, 6, 0, 3, 6, 3, 7, 6, 4, 4, 3, 4, 6, 9, 7, 0, 5, 7, 1, 5, 6,\n",
       "       9, 4, 5, 9, 5, 6, 1, 1, 2, 6, 4, 1, 3, 2, 0, 6, 1, 8, 5, 7, 5, 4,\n",
       "       1, 1, 4, 5, 3, 5, 0, 1, 7, 6, 1, 9, 0, 3, 7, 0, 6, 5, 7, 9, 0, 3,\n",
       "       6, 9, 4, 7, 0, 4, 9, 2, 0, 1, 0, 3, 8, 8, 1, 9, 8, 5, 3, 2, 6, 6,\n",
       "       9, 2, 4, 4, 6, 0, 2, 8])"
      ]
     },
     "execution_count": 79,
     "metadata": {},
     "output_type": "execute_result"
    }
   ],
   "source": [
    "y_predict = my_knn_clf.predict(X_test)\n",
    "y_predict"
   ]
  },
  {
   "cell_type": "code",
   "execution_count": 80,
   "metadata": {},
   "outputs": [
    {
     "data": {
      "text/plain": [
       "0.9888888888888889"
      ]
     },
     "execution_count": 80,
     "metadata": {},
     "output_type": "execute_result"
    }
   ],
   "source": [
    "np.sum(y_predict == y_test) / len(y_test)"
   ]
  },
  {
   "cell_type": "code",
   "execution_count": 81,
   "metadata": {},
   "outputs": [],
   "source": [
    "%run D://资料//程序//Python//Machine_Learn//Metrics//metrics.py"
   ]
  },
  {
   "cell_type": "code",
   "execution_count": 82,
   "metadata": {},
   "outputs": [
    {
     "data": {
      "text/plain": [
       "0.9888888888888889"
      ]
     },
     "execution_count": 82,
     "metadata": {},
     "output_type": "execute_result"
    }
   ],
   "source": [
    "accuracy_score(y_test, y_predict)"
   ]
  },
  {
   "cell_type": "code",
   "execution_count": 83,
   "metadata": {},
   "outputs": [
    {
     "data": {
      "text/plain": [
       "0.9888888888888889"
      ]
     },
     "execution_count": 83,
     "metadata": {},
     "output_type": "execute_result"
    }
   ],
   "source": [
    "my_knn_clf.score(X_test, y_test)"
   ]
  },
  {
   "cell_type": "markdown",
   "metadata": {},
   "source": [
    "### scikit-learn中的accuracy_score"
   ]
  },
  {
   "cell_type": "code",
   "execution_count": 86,
   "metadata": {},
   "outputs": [],
   "source": [
    "from sklearn.model_selection import train_test_split\n",
    "X_train, X_test, y_train, y_test = train_test_split(X, y, test_size=0.2)"
   ]
  },
  {
   "cell_type": "code",
   "execution_count": 87,
   "metadata": {},
   "outputs": [],
   "source": [
    "from sklearn.neighbors import KNeighborsClassifier\n",
    "knn_clf = KNeighborsClassifier(n_neighbors=3)"
   ]
  },
  {
   "cell_type": "code",
   "execution_count": 88,
   "metadata": {},
   "outputs": [
    {
     "data": {
      "text/plain": [
       "KNeighborsClassifier(algorithm='auto', leaf_size=30, metric='minkowski',\n",
       "                     metric_params=None, n_jobs=None, n_neighbors=3, p=2,\n",
       "                     weights='uniform')"
      ]
     },
     "execution_count": 88,
     "metadata": {},
     "output_type": "execute_result"
    }
   ],
   "source": [
    "knn_clf.fit(X_train, y_train)"
   ]
  },
  {
   "cell_type": "code",
   "execution_count": 89,
   "metadata": {},
   "outputs": [],
   "source": [
    "y_predict = knn_clf.predict(X_test)"
   ]
  },
  {
   "cell_type": "code",
   "execution_count": 90,
   "metadata": {},
   "outputs": [],
   "source": [
    "from sklearn.metrics import accuracy_score"
   ]
  },
  {
   "cell_type": "code",
   "execution_count": 91,
   "metadata": {},
   "outputs": [
    {
     "data": {
      "text/plain": [
       "0.9916666666666667"
      ]
     },
     "execution_count": 91,
     "metadata": {},
     "output_type": "execute_result"
    }
   ],
   "source": [
    "accuracy_score(y_test, y_predict)"
   ]
  },
  {
   "cell_type": "code",
   "execution_count": 92,
   "metadata": {},
   "outputs": [
    {
     "data": {
      "text/plain": [
       "0.9916666666666667"
      ]
     },
     "execution_count": 92,
     "metadata": {},
     "output_type": "execute_result"
    }
   ],
   "source": [
    "knn_clf.score(X_test, y_test)"
   ]
  },
  {
   "cell_type": "markdown",
   "metadata": {},
   "source": [
    "# 三、超参数"
   ]
  },
  {
   "cell_type": "markdown",
   "metadata": {},
   "source": [
    "#### 超参数：在算法运行前需要决定的参数；\n",
    "##### 模型参数：算法过程中学习的参数；\n",
    "\n",
    "#### kNN算法没有模型参数，kNN算法中的k是典型的超参数。"
   ]
  },
  {
   "cell_type": "markdown",
   "metadata": {},
   "source": [
    "### 寻找好的超参数（领域知识、经验数值、实验搜索）"
   ]
  },
  {
   "cell_type": "markdown",
   "metadata": {},
   "source": [
    "#### 寻找最好的K"
   ]
  },
  {
   "cell_type": "code",
   "execution_count": 96,
   "metadata": {},
   "outputs": [
    {
     "name": "stdout",
     "output_type": "stream",
     "text": [
      "best_k = 5\n",
      "best_score = 1.0\n"
     ]
    }
   ],
   "source": [
    "best_score = 0.0\n",
    "best_k = -1\n",
    "for k in range(1, 11):\n",
    "    knn_clf = KNeighborsClassifier(n_neighbors=k)\n",
    "    knn_clf.fit(X_train, y_train)\n",
    "    score = knn_clf.score(X_test, y_test)\n",
    "    if score > best_score:\n",
    "        best_k = k\n",
    "        best_score = score\n",
    "        \n",
    "print(\"best_k =\", best_k)\n",
    "print(\"best_score =\", best_score)"
   ]
  },
  {
   "cell_type": "markdown",
   "metadata": {},
   "source": [
    "#### 考虑距离权重（距离倒数） or 不考虑距离"
   ]
  },
  {
   "cell_type": "code",
   "execution_count": 97,
   "metadata": {},
   "outputs": [
    {
     "name": "stdout",
     "output_type": "stream",
     "text": [
      "best_method = uniform\n",
      "best_k = 5\n",
      "best_score = 1.0\n"
     ]
    }
   ],
   "source": [
    "best_method = \"\"\n",
    "best_score = 0.0\n",
    "best_k = -1\n",
    "for method in (\"uniform\", \"distance\"):\n",
    "    for k in range(1, 11):\n",
    "        knn_clf = KNeighborsClassifier(n_neighbors=k, weights=method)\n",
    "        knn_clf.fit(X_train, y_train)\n",
    "        score = knn_clf.score(X_test, y_test)\n",
    "        if score > best_score:\n",
    "            best_method = method\n",
    "            best_k = k\n",
    "            best_score = score\n",
    "        \n",
    "print(\"best_method =\", best_method)\n",
    "print(\"best_k =\", best_k)\n",
    "print(\"best_score =\", best_score)"
   ]
  },
  {
   "cell_type": "markdown",
   "metadata": {},
   "source": [
    "#### 搜索明可夫斯基距离相应的p（明可夫斯基距离[p]：欧拉距离[p=2]、曼哈顿距离[p=1]）"
   ]
  },
  {
   "cell_type": "code",
   "execution_count": 99,
   "metadata": {},
   "outputs": [
    {
     "name": "stdout",
     "output_type": "stream",
     "text": [
      "best_k = 5\n",
      "best_score = 1.0\n",
      "best_p = 2\n",
      "Wall time: 30.2 s\n"
     ]
    }
   ],
   "source": [
    "%%time\n",
    "\n",
    "best_p = -1\n",
    "best_score = 0.0\n",
    "best_k = -1\n",
    "for k in range(1, 11):\n",
    "    for p in range(1, 6):\n",
    "        knn_clf = KNeighborsClassifier(n_neighbors=k, weights=\"distance\", p=p)\n",
    "        knn_clf.fit(X_train, y_train)\n",
    "        score = knn_clf.score(X_test, y_test)\n",
    "        if score > best_score:\n",
    "            best_k = k\n",
    "            best_score = score\n",
    "            best_p = p\n",
    "        \n",
    "print(\"best_k =\", best_k)\n",
    "print(\"best_score =\", best_score)\n",
    "print(\"best_p =\", best_p)"
   ]
  },
  {
   "cell_type": "markdown",
   "metadata": {},
   "source": [
    "### 网格搜索（Grid Search）"
   ]
  },
  {
   "cell_type": "code",
   "execution_count": 100,
   "metadata": {},
   "outputs": [],
   "source": [
    "param_grid = [\n",
    "    {\n",
    "        \"weights\": [\"uniform\"],\n",
    "        \"n_neighbors\": [i for i in range(1, 11)]\n",
    "    },\n",
    "    {\n",
    "        \"weights\": [\"distance\"],\n",
    "        \"n_neighbors\": [i for i in range(1, 11)],\n",
    "        \"p\": [i for i in range(1, 6)]\n",
    "    }\n",
    "]"
   ]
  },
  {
   "cell_type": "code",
   "execution_count": 101,
   "metadata": {},
   "outputs": [],
   "source": [
    "knn_clf = KNeighborsClassifier()"
   ]
  },
  {
   "cell_type": "code",
   "execution_count": 102,
   "metadata": {},
   "outputs": [],
   "source": [
    "from sklearn.model_selection import GridSearchCV\n",
    "\n",
    "grid_search = GridSearchCV(knn_clf, param_grid)"
   ]
  },
  {
   "cell_type": "code",
   "execution_count": 103,
   "metadata": {},
   "outputs": [
    {
     "name": "stdout",
     "output_type": "stream",
     "text": [
      "Wall time: 1min 30s\n"
     ]
    },
    {
     "data": {
      "text/plain": [
       "GridSearchCV(cv=None, error_score=nan,\n",
       "             estimator=KNeighborsClassifier(algorithm='auto', leaf_size=30,\n",
       "                                            metric='minkowski',\n",
       "                                            metric_params=None, n_jobs=None,\n",
       "                                            n_neighbors=5, p=2,\n",
       "                                            weights='uniform'),\n",
       "             iid='deprecated', n_jobs=None,\n",
       "             param_grid=[{'n_neighbors': [1, 2, 3, 4, 5, 6, 7, 8, 9, 10],\n",
       "                          'weights': ['uniform']},\n",
       "                         {'n_neighbors': [1, 2, 3, 4, 5, 6, 7, 8, 9, 10],\n",
       "                          'p': [1, 2, 3, 4, 5], 'weights': ['distance']}],\n",
       "             pre_dispatch='2*n_jobs', refit=True, return_train_score=False,\n",
       "             scoring=None, verbose=0)"
      ]
     },
     "execution_count": 103,
     "metadata": {},
     "output_type": "execute_result"
    }
   ],
   "source": [
    "%%time\n",
    "grid_search.fit(X_train, y_train)"
   ]
  },
  {
   "cell_type": "code",
   "execution_count": 104,
   "metadata": {},
   "outputs": [
    {
     "data": {
      "text/plain": [
       "KNeighborsClassifier(algorithm='auto', leaf_size=30, metric='minkowski',\n",
       "                     metric_params=None, n_jobs=None, n_neighbors=1, p=4,\n",
       "                     weights='distance')"
      ]
     },
     "execution_count": 104,
     "metadata": {},
     "output_type": "execute_result"
    }
   ],
   "source": [
    "grid_search.best_estimator_"
   ]
  },
  {
   "cell_type": "code",
   "execution_count": 105,
   "metadata": {},
   "outputs": [
    {
     "data": {
      "text/plain": [
       "0.9881654084397986"
      ]
     },
     "execution_count": 105,
     "metadata": {},
     "output_type": "execute_result"
    }
   ],
   "source": [
    "grid_search.best_score_"
   ]
  },
  {
   "cell_type": "code",
   "execution_count": 106,
   "metadata": {},
   "outputs": [
    {
     "data": {
      "text/plain": [
       "{'n_neighbors': 1, 'p': 4, 'weights': 'distance'}"
      ]
     },
     "execution_count": 106,
     "metadata": {},
     "output_type": "execute_result"
    }
   ],
   "source": [
    "grid_search.best_params_"
   ]
  },
  {
   "cell_type": "code",
   "execution_count": 107,
   "metadata": {},
   "outputs": [],
   "source": [
    "knn_clf = grid_search.best_estimator_"
   ]
  },
  {
   "cell_type": "code",
   "execution_count": 108,
   "metadata": {},
   "outputs": [
    {
     "data": {
      "text/plain": [
       "0.9944444444444445"
      ]
     },
     "execution_count": 108,
     "metadata": {},
     "output_type": "execute_result"
    }
   ],
   "source": [
    "knn_clf.score(X_test, y_test)"
   ]
  },
  {
   "cell_type": "code",
   "execution_count": 110,
   "metadata": {},
   "outputs": [
    {
     "name": "stdout",
     "output_type": "stream",
     "text": [
      "Fitting 5 folds for each of 60 candidates, totalling 300 fits\n"
     ]
    },
    {
     "name": "stderr",
     "output_type": "stream",
     "text": [
      "[Parallel(n_jobs=-1)]: Using backend LokyBackend with 4 concurrent workers.\n",
      "[Parallel(n_jobs=-1)]: Done  33 tasks      | elapsed:    6.2s\n",
      "[Parallel(n_jobs=-1)]: Done 154 tasks      | elapsed:   18.4s\n"
     ]
    },
    {
     "name": "stdout",
     "output_type": "stream",
     "text": [
      "Wall time: 35 s\n"
     ]
    },
    {
     "name": "stderr",
     "output_type": "stream",
     "text": [
      "[Parallel(n_jobs=-1)]: Done 300 out of 300 | elapsed:   34.9s finished\n"
     ]
    },
    {
     "data": {
      "text/plain": [
       "GridSearchCV(cv=None, error_score=nan,\n",
       "             estimator=KNeighborsClassifier(algorithm='auto', leaf_size=30,\n",
       "                                            metric='minkowski',\n",
       "                                            metric_params=None, n_jobs=None,\n",
       "                                            n_neighbors=1, p=4,\n",
       "                                            weights='distance'),\n",
       "             iid='deprecated', n_jobs=-1,\n",
       "             param_grid=[{'n_neighbors': [1, 2, 3, 4, 5, 6, 7, 8, 9, 10],\n",
       "                          'weights': ['uniform']},\n",
       "                         {'n_neighbors': [1, 2, 3, 4, 5, 6, 7, 8, 9, 10],\n",
       "                          'p': [1, 2, 3, 4, 5], 'weights': ['distance']}],\n",
       "             pre_dispatch='2*n_jobs', refit=True, return_train_score=False,\n",
       "             scoring=None, verbose=2)"
      ]
     },
     "execution_count": 110,
     "metadata": {},
     "output_type": "execute_result"
    }
   ],
   "source": [
    "%%time\n",
    "# n_jobs 并行处理的分配核数，-1为全部核数; verbose 输出计算过程信息，值越大输出越详细\n",
    "grid_search = GridSearchCV(knn_clf, param_grid, n_jobs=-1, verbose=2)\n",
    "grid_search.fit(X_train, y_train)"
   ]
  },
  {
   "cell_type": "markdown",
   "metadata": {},
   "source": [
    "#### 更多的距离定义：\n",
    "#### 向量空间余弦相似度（Cosine Similarity）\n",
    "#### 调整余弦相似度（Adjusted Cosine Similarity）\n",
    "#### 皮尔森相关系数（Pearson Correlation Coefficient）\n",
    "#### Jaccard相似系数（Jaccard Coefficient）"
   ]
  },
  {
   "cell_type": "markdown",
   "metadata": {},
   "source": [
    "###  \n",
    "## 四、数据归一化（Feature Scaling）"
   ]
  },
  {
   "cell_type": "markdown",
   "metadata": {},
   "source": [
    "#### 解决方案：将所有的数据映射到同一尺度\n",
    "#### 1、最值归一化（normalization）：把所有数据映射到0-1之间 scale = (x - min)/(max - min)\n",
    "#### 适用于分布有明显边界的情况；受outlier影响较大\n",
    "\n",
    "#### 2、均值方差归一化（standardization）：把所有数据归一到均值为0方差为1的分布中 scale = (x - mean)/standard\n",
    "#### 适用于数据分布没有明显的边界；有可能存在极端数据值"
   ]
  },
  {
   "cell_type": "code",
   "execution_count": 113,
   "metadata": {},
   "outputs": [],
   "source": [
    "import numpy as np\n",
    "import matplotlib.pyplot as plt"
   ]
  },
  {
   "cell_type": "markdown",
   "metadata": {},
   "source": [
    "#### 最值归一化（normalization）"
   ]
  },
  {
   "cell_type": "code",
   "execution_count": 116,
   "metadata": {},
   "outputs": [],
   "source": [
    "x = np.random.randint(0, 100, size=100)"
   ]
  },
  {
   "cell_type": "code",
   "execution_count": 117,
   "metadata": {},
   "outputs": [
    {
     "data": {
      "text/plain": [
       "array([45, 72, 62, 77, 30, 64, 28, 72, 85, 34, 29, 17, 33, 32, 46, 35, 64,\n",
       "       10, 70, 39, 37, 58, 60, 22, 32, 51, 79, 17, 92,  8,  8, 46, 48, 29,\n",
       "       14, 88, 48, 54, 91, 70, 52, 16, 84, 97,  4, 85,  9, 98, 54, 82, 89,\n",
       "        6, 15, 28, 65, 25, 46, 82,  5, 92, 22, 29, 26, 63, 84, 72, 61, 64,\n",
       "       14,  6,  5, 15, 31, 65, 94, 26, 24, 49, 32, 99, 49, 48, 93, 27, 89,\n",
       "       10, 49, 36, 21,  9, 33, 27, 37, 55, 83, 20, 89, 70, 26,  7])"
      ]
     },
     "execution_count": 117,
     "metadata": {},
     "output_type": "execute_result"
    }
   ],
   "source": [
    "x"
   ]
  },
  {
   "cell_type": "code",
   "execution_count": 118,
   "metadata": {},
   "outputs": [
    {
     "data": {
      "text/plain": [
       "array([0.43157895, 0.71578947, 0.61052632, 0.76842105, 0.27368421,\n",
       "       0.63157895, 0.25263158, 0.71578947, 0.85263158, 0.31578947,\n",
       "       0.26315789, 0.13684211, 0.30526316, 0.29473684, 0.44210526,\n",
       "       0.32631579, 0.63157895, 0.06315789, 0.69473684, 0.36842105,\n",
       "       0.34736842, 0.56842105, 0.58947368, 0.18947368, 0.29473684,\n",
       "       0.49473684, 0.78947368, 0.13684211, 0.92631579, 0.04210526,\n",
       "       0.04210526, 0.44210526, 0.46315789, 0.26315789, 0.10526316,\n",
       "       0.88421053, 0.46315789, 0.52631579, 0.91578947, 0.69473684,\n",
       "       0.50526316, 0.12631579, 0.84210526, 0.97894737, 0.        ,\n",
       "       0.85263158, 0.05263158, 0.98947368, 0.52631579, 0.82105263,\n",
       "       0.89473684, 0.02105263, 0.11578947, 0.25263158, 0.64210526,\n",
       "       0.22105263, 0.44210526, 0.82105263, 0.01052632, 0.92631579,\n",
       "       0.18947368, 0.26315789, 0.23157895, 0.62105263, 0.84210526,\n",
       "       0.71578947, 0.6       , 0.63157895, 0.10526316, 0.02105263,\n",
       "       0.01052632, 0.11578947, 0.28421053, 0.64210526, 0.94736842,\n",
       "       0.23157895, 0.21052632, 0.47368421, 0.29473684, 1.        ,\n",
       "       0.47368421, 0.46315789, 0.93684211, 0.24210526, 0.89473684,\n",
       "       0.06315789, 0.47368421, 0.33684211, 0.17894737, 0.05263158,\n",
       "       0.30526316, 0.24210526, 0.34736842, 0.53684211, 0.83157895,\n",
       "       0.16842105, 0.89473684, 0.69473684, 0.23157895, 0.03157895])"
      ]
     },
     "execution_count": 118,
     "metadata": {},
     "output_type": "execute_result"
    }
   ],
   "source": [
    "(x - np.min(x)) / (np.max(x) - np.min(x))"
   ]
  },
  {
   "cell_type": "code",
   "execution_count": 119,
   "metadata": {},
   "outputs": [],
   "source": [
    "X = np.random.randint(0, 100, (50, 2))"
   ]
  },
  {
   "cell_type": "code",
   "execution_count": 120,
   "metadata": {},
   "outputs": [
    {
     "data": {
      "text/plain": [
       "array([[27, 32],\n",
       "       [99, 42],\n",
       "       [ 6,  9],\n",
       "       [20, 26],\n",
       "       [65, 60],\n",
       "       [86, 67],\n",
       "       [13, 69],\n",
       "       [65, 74],\n",
       "       [ 0,  5],\n",
       "       [23, 46]])"
      ]
     },
     "execution_count": 120,
     "metadata": {},
     "output_type": "execute_result"
    }
   ],
   "source": [
    "X[:10, :]"
   ]
  },
  {
   "cell_type": "code",
   "execution_count": 121,
   "metadata": {},
   "outputs": [],
   "source": [
    "X = np.array(X, dtype=float)"
   ]
  },
  {
   "cell_type": "code",
   "execution_count": 122,
   "metadata": {},
   "outputs": [
    {
     "data": {
      "text/plain": [
       "array([[27., 32.],\n",
       "       [99., 42.],\n",
       "       [ 6.,  9.],\n",
       "       [20., 26.],\n",
       "       [65., 60.],\n",
       "       [86., 67.],\n",
       "       [13., 69.],\n",
       "       [65., 74.],\n",
       "       [ 0.,  5.],\n",
       "       [23., 46.]])"
      ]
     },
     "execution_count": 122,
     "metadata": {},
     "output_type": "execute_result"
    }
   ],
   "source": [
    "X[:10, :]"
   ]
  },
  {
   "cell_type": "code",
   "execution_count": 123,
   "metadata": {},
   "outputs": [],
   "source": [
    "X[:,0] = (X[:,0] - np.min(X[:,0])) / (np.max(X[:,0]) - np.min(X[:,0]))"
   ]
  },
  {
   "cell_type": "code",
   "execution_count": 124,
   "metadata": {},
   "outputs": [],
   "source": [
    "X[:,1] = (X[:,1] - np.min(X[:,1])) / (np.max(X[:,1]) - np.min(X[:,1]))"
   ]
  },
  {
   "cell_type": "code",
   "execution_count": 125,
   "metadata": {},
   "outputs": [
    {
     "data": {
      "text/plain": [
       "array([[0.27272727, 0.32954545],\n",
       "       [1.        , 0.44318182],\n",
       "       [0.06060606, 0.06818182],\n",
       "       [0.2020202 , 0.26136364],\n",
       "       [0.65656566, 0.64772727],\n",
       "       [0.86868687, 0.72727273],\n",
       "       [0.13131313, 0.75      ],\n",
       "       [0.65656566, 0.80681818],\n",
       "       [0.        , 0.02272727],\n",
       "       [0.23232323, 0.48863636]])"
      ]
     },
     "execution_count": 125,
     "metadata": {},
     "output_type": "execute_result"
    }
   ],
   "source": [
    "X[:10,:]"
   ]
  },
  {
   "cell_type": "code",
   "execution_count": 126,
   "metadata": {},
   "outputs": [
    {
     "data": {
      "image/png": "[encoded data removed]",
      "text/plain": [
       "<Figure size 432x288 with 1 Axes>"
      ]
     },
     "metadata": {
      "needs_background": "light"
     },
     "output_type": "display_data"
    }
   ],
   "source": [
    "plt.scatter(X[:,0], X[:,1])\n",
    "plt.show()"
   ]
  },
  {
   "cell_type": "code",
   "execution_count": 127,
   "metadata": {},
   "outputs": [
    {
     "data": {
      "text/plain": [
       "0.42767676767676766"
      ]
     },
     "execution_count": 127,
     "metadata": {},
     "output_type": "execute_result"
    }
   ],
   "source": [
    "np.mean(X[:,0])"
   ]
  },
  {
   "cell_type": "code",
   "execution_count": 128,
   "metadata": {},
   "outputs": [
    {
     "data": {
      "text/plain": [
       "0.30129205153188865"
      ]
     },
     "execution_count": 128,
     "metadata": {},
     "output_type": "execute_result"
    }
   ],
   "source": [
    "np.std(X[:,0])"
   ]
  },
  {
   "cell_type": "code",
   "execution_count": 129,
   "metadata": {},
   "outputs": [
    {
     "data": {
      "text/plain": [
       "0.46772727272727266"
      ]
     },
     "execution_count": 129,
     "metadata": {},
     "output_type": "execute_result"
    }
   ],
   "source": [
    "np.mean(X[:,1])"
   ]
  },
  {
   "cell_type": "code",
   "execution_count": 130,
   "metadata": {},
   "outputs": [
    {
     "data": {
      "text/plain": [
       "0.27120179428451524"
      ]
     },
     "execution_count": 130,
     "metadata": {},
     "output_type": "execute_result"
    }
   ],
   "source": [
    "np.std(X[:,1])"
   ]
  },
  {
   "cell_type": "markdown",
   "metadata": {},
   "source": [
    "#### 均值方差归一化（standardization）"
   ]
  },
  {
   "cell_type": "code",
   "execution_count": 131,
   "metadata": {},
   "outputs": [],
   "source": [
    "X2 = np.random.randint(0, 100, (50, 2))"
   ]
  },
  {
   "cell_type": "code",
   "execution_count": 132,
   "metadata": {},
   "outputs": [],
   "source": [
    "X2 = np.array(X2, dtype=float)"
   ]
  },
  {
   "cell_type": "code",
   "execution_count": 133,
   "metadata": {},
   "outputs": [],
   "source": [
    "X2[:,0] = (X2[:,0] - np.mean(X2[:,0])) / np.std(X2[:,0])"
   ]
  },
  {
   "cell_type": "code",
   "execution_count": 134,
   "metadata": {},
   "outputs": [],
   "source": [
    "X2[:,1] = (X2[:,1] - np.mean(X2[:,1])) / np.std(X2[:,1])"
   ]
  },
  {
   "cell_type": "code",
   "execution_count": 135,
   "metadata": {},
   "outputs": [
    {
     "data": {
      "image/png": "[encoded data removed]",
      "text/plain": [
       "<Figure size 432x288 with 1 Axes>"
      ]
     },
     "metadata": {
      "needs_background": "light"
     },
     "output_type": "display_data"
    }
   ],
   "source": [
    "plt.scatter(X2[:,0], X2[:,1])\n",
    "plt.show()"
   ]
  },
  {
   "cell_type": "code",
   "execution_count": 136,
   "metadata": {},
   "outputs": [
    {
     "data": {
      "text/plain": [
       "-1.509903313490213e-16"
      ]
     },
     "execution_count": 136,
     "metadata": {},
     "output_type": "execute_result"
    }
   ],
   "source": [
    "np.mean(X2[:,0])"
   ]
  },
  {
   "cell_type": "code",
   "execution_count": 137,
   "metadata": {},
   "outputs": [
    {
     "data": {
      "text/plain": [
       "1.0"
      ]
     },
     "execution_count": 137,
     "metadata": {},
     "output_type": "execute_result"
    }
   ],
   "source": [
    "np.std(X2[:,0])"
   ]
  },
  {
   "cell_type": "code",
   "execution_count": 138,
   "metadata": {},
   "outputs": [
    {
     "data": {
      "text/plain": [
       "2.7755575615628914e-17"
      ]
     },
     "execution_count": 138,
     "metadata": {},
     "output_type": "execute_result"
    }
   ],
   "source": [
    "np.mean(X2[:,1])"
   ]
  },
  {
   "cell_type": "code",
   "execution_count": 139,
   "metadata": {},
   "outputs": [
    {
     "data": {
      "text/plain": [
       "0.9999999999999999"
      ]
     },
     "execution_count": 139,
     "metadata": {},
     "output_type": "execute_result"
    }
   ],
   "source": [
    "np.std(X2[:,1])"
   ]
  },
  {
   "cell_type": "markdown",
   "metadata": {},
   "source": [
    "### Scikit-learn中的Scaler"
   ]
  },
  {
   "cell_type": "code",
   "execution_count": 141,
   "metadata": {},
   "outputs": [],
   "source": [
    "import numpy as np\n",
    "from sklearn import datasets"
   ]
  },
  {
   "cell_type": "code",
   "execution_count": 142,
   "metadata": {},
   "outputs": [],
   "source": [
    "iris = datasets.load_iris()"
   ]
  },
  {
   "cell_type": "code",
   "execution_count": 143,
   "metadata": {},
   "outputs": [],
   "source": [
    "X = iris.data\n",
    "y = iris.target"
   ]
  },
  {
   "cell_type": "code",
   "execution_count": 144,
   "metadata": {},
   "outputs": [
    {
     "data": {
      "text/plain": [
       "array([[5.1, 3.5, 1.4, 0.2],\n",
       "       [4.9, 3. , 1.4, 0.2],\n",
       "       [4.7, 3.2, 1.3, 0.2],\n",
       "       [4.6, 3.1, 1.5, 0.2],\n",
       "       [5. , 3.6, 1.4, 0.2],\n",
       "       [5.4, 3.9, 1.7, 0.4],\n",
       "       [4.6, 3.4, 1.4, 0.3],\n",
       "       [5. , 3.4, 1.5, 0.2],\n",
       "       [4.4, 2.9, 1.4, 0.2],\n",
       "       [4.9, 3.1, 1.5, 0.1]])"
      ]
     },
     "execution_count": 144,
     "metadata": {},
     "output_type": "execute_result"
    }
   ],
   "source": [
    "X[:10,:]"
   ]
  },
  {
   "cell_type": "code",
   "execution_count": 145,
   "metadata": {},
   "outputs": [],
   "source": [
    "from sklearn.model_selection import train_test_split\n",
    "X_train, X_test, y_train, y_test = train_test_split(X, y, test_size=0.2)"
   ]
  },
  {
   "cell_type": "markdown",
   "metadata": {},
   "source": [
    "#### Scikit-learn中的StandardScaler"
   ]
  },
  {
   "cell_type": "code",
   "execution_count": 146,
   "metadata": {},
   "outputs": [],
   "source": [
    "from sklearn.preprocessing import StandardScaler"
   ]
  },
  {
   "cell_type": "code",
   "execution_count": 147,
   "metadata": {},
   "outputs": [],
   "source": [
    "standardScaler = StandardScaler()"
   ]
  },
  {
   "cell_type": "code",
   "execution_count": 148,
   "metadata": {},
   "outputs": [
    {
     "data": {
      "text/plain": [
       "StandardScaler(copy=True, with_mean=True, with_std=True)"
      ]
     },
     "execution_count": 148,
     "metadata": {},
     "output_type": "execute_result"
    }
   ],
   "source": [
    "standardScaler.fit(X_train)"
   ]
  },
  {
   "cell_type": "code",
   "execution_count": 149,
   "metadata": {},
   "outputs": [
    {
     "data": {
      "text/plain": [
       "array([5.85916667, 3.0775    , 3.7625    , 1.20833333])"
      ]
     },
     "execution_count": 149,
     "metadata": {},
     "output_type": "execute_result"
    }
   ],
   "source": [
    "standardScaler.mean_"
   ]
  },
  {
   "cell_type": "code",
   "execution_count": 150,
   "metadata": {},
   "outputs": [
    {
     "data": {
      "text/plain": [
       "array([0.79765237, 0.43233137, 1.72375861, 0.75206198])"
      ]
     },
     "execution_count": 150,
     "metadata": {},
     "output_type": "execute_result"
    }
   ],
   "source": [
    "standardScaler.scale_"
   ]
  },
  {
   "cell_type": "code",
   "execution_count": 151,
   "metadata": {},
   "outputs": [
    {
     "data": {
      "text/plain": [
       "array([[ 0.55266348, -0.4105647 ,  1.06598452,  0.78672594],\n",
       "       [-0.57564759,  0.74595558, -1.19651324, -1.34075829],\n",
       "       [ 1.05413506, -1.33578092,  1.18201005,  0.78672594],\n",
       "       [ 0.30192768, -0.17926064,  0.48585689,  0.25485488],\n",
       "       [ 1.43023875,  0.28334747,  0.54386965,  0.25485488],\n",
       "       [-0.57564759, -0.17926064,  0.42784413,  0.38782265],\n",
       "       [ 0.55266348, -0.87317281,  0.65989518,  0.78672594],\n",
       "       [ 1.30487086,  0.28334747,  1.12399729,  1.45156476],\n",
       "       [-0.95175128,  0.97725963, -1.37055153, -1.20779052],\n",
       "       [ 1.17950296, -0.64186875,  0.60188242,  0.25485488],\n",
       "       [ 0.92876717, -0.4105647 ,  0.48585689,  0.12188712],\n",
       "       [-0.95175128,  1.43986774, -1.31253877, -1.07482276],\n",
       "       [ 0.30192768, -0.17926064,  0.65989518,  0.78672594],\n",
       "       [-0.1995439 , -0.4105647 ,  0.25380584,  0.12188712],\n",
       "       [ 1.05413506,  0.05204341,  0.36983136,  0.25485488],\n",
       "       [ 2.30781403, -0.17926064,  1.35604834,  1.45156476],\n",
       "       [-1.70395866, -1.79838903, -1.42856429, -1.20779052],\n",
       "       [ 0.17655979, -2.02969309,  0.71790794,  0.38782265],\n",
       "       [-1.07711918,  1.20856369, -1.37055153, -1.34075829],\n",
       "       [-0.95175128,  1.6711718 , -1.254526  , -1.34075829],\n",
       "       [-1.20248707,  1.20856369, -1.37055153, -1.47372605],\n",
       "       [ 0.17655979, -0.17926064,  0.60188242,  0.78672594],\n",
       "       [ 0.80339927, -0.64186875,  0.48585689,  0.38782265],\n",
       "       [-1.95469445, -0.17926064, -1.54458982, -1.47372605],\n",
       "       [ 0.55266348, -1.33578092,  0.65989518,  0.38782265],\n",
       "       [-0.57564759,  0.74595558, -1.31253877, -1.07482276],\n",
       "       [-0.07417601, -0.87317281,  0.77592071,  0.9196937 ],\n",
       "       [-1.07711918,  0.74595558, -1.254526  , -1.07482276],\n",
       "       [-0.4502797 ,  2.59638802, -1.37055153, -1.34075829],\n",
       "       [ 0.55266348, -1.79838903,  0.36983136,  0.12188712],\n",
       "       [ 0.80339927,  0.28334747,  0.77592071,  1.05266147],\n",
       "       [-1.20248707, -1.56708498, -0.26830903, -0.27701618],\n",
       "       [-0.82638338,  2.36508397, -1.31253877, -1.47372605],\n",
       "       [-1.07711918,  0.51465152, -1.37055153, -1.34075829],\n",
       "       [-1.32785497,  0.74595558, -1.08048771, -1.34075829],\n",
       "       [-1.32785497, -0.17926064, -1.37055153, -1.20779052],\n",
       "       [-0.07417601, -0.87317281,  0.77592071,  0.9196937 ],\n",
       "       [ 0.67803137,  0.05204341,  1.00797176,  0.78672594],\n",
       "       [-0.1995439 , -0.64186875,  0.19579308,  0.12188712],\n",
       "       [ 0.17655979,  0.74595558,  0.42784413,  0.52079041],\n",
       "       [-0.1995439 ,  3.05899613, -1.31253877, -1.07482276],\n",
       "       [-0.70101549,  1.43986774, -1.31253877, -1.34075829],\n",
       "       [ 0.30192768, -0.64186875,  0.13778031,  0.12188712],\n",
       "       [ 1.30487086,  0.05204341,  0.77592071,  1.45156476],\n",
       "       [ 2.30781403,  1.6711718 ,  1.70412492,  1.31859699],\n",
       "       [-0.1995439 ,  1.6711718 , -1.19651324, -1.20779052],\n",
       "       [-0.95175128,  1.6711718 , -1.31253877, -1.20779052],\n",
       "       [-1.07711918,  0.74595558, -1.31253877, -1.34075829],\n",
       "       [ 1.05413506, -0.17926064,  0.71790794,  0.65375817],\n",
       "       [-1.07711918, -0.17926064, -1.254526  , -1.34075829],\n",
       "       [ 1.05413506,  0.05204341,  1.06598452,  1.58453252],\n",
       "       [ 0.80339927, -0.17926064,  1.18201005,  1.31859699],\n",
       "       [-1.20248707,  0.05204341, -1.31253877, -1.34075829],\n",
       "       [-0.4502797 , -1.33578092,  0.13778031,  0.12188712],\n",
       "       [-1.82932656, -0.17926064, -1.42856429, -1.34075829],\n",
       "       [-0.57564759,  1.90247586, -1.19651324, -1.07482276],\n",
       "       [-0.95175128,  0.51465152, -1.19651324, -0.941855  ],\n",
       "       [ 0.05119189, -0.17926064,  0.25380584,  0.38782265],\n",
       "       [ 0.55266348, -0.64186875,  0.77592071,  0.38782265],\n",
       "       [-1.20248707, -0.17926064, -1.37055153, -1.34075829],\n",
       "       [-0.1995439 , -0.64186875,  0.42784413,  0.12188712],\n",
       "       [-0.82638338,  0.74595558, -1.37055153, -1.34075829],\n",
       "       [-0.1995439 , -1.10447686, -0.1522835 , -0.27701618],\n",
       "       [-1.57859076,  0.05204341, -1.31253877, -1.34075829],\n",
       "       [-0.95175128, -1.33578092, -0.44234732, -0.14404841],\n",
       "       [ 0.67803137,  0.28334747,  0.89194623,  1.45156476],\n",
       "       [-1.32785497,  0.74595558, -1.254526  , -1.34075829],\n",
       "       [ 2.55854982,  1.6711718 ,  1.53008663,  1.05266147],\n",
       "       [-0.07417601, -0.87317281,  0.19579308, -0.27701618],\n",
       "       [-1.07711918,  0.28334747, -1.48657706, -1.34075829],\n",
       "       [ 1.05413506,  0.51465152,  1.12399729,  1.18562923],\n",
       "       [ 0.17655979, -0.4105647 ,  0.42784413,  0.38782265],\n",
       "       [ 1.80634244, -0.4105647 ,  1.47207386,  0.78672594],\n",
       "       [-0.95175128,  0.74595558, -1.31253877, -1.34075829],\n",
       "       [-0.3249118 , -0.64186875,  0.65989518,  1.05266147],\n",
       "       [-0.3249118 , -1.33578092,  0.07976755, -0.14404841],\n",
       "       [ 1.05413506,  0.51465152,  1.12399729,  1.71750029],\n",
       "       [-1.20248707, -1.33578092,  0.42784413,  0.65375817],\n",
       "       [ 0.92876717, -0.17926064,  0.36983136,  0.25485488],\n",
       "       [ 1.17950296, -0.17926064,  1.00797176,  1.18562923],\n",
       "       [-0.07417601, -0.87317281,  0.07976755, -0.01108065],\n",
       "       [ 1.68097455,  1.20856369,  1.35604834,  1.71750029],\n",
       "       [-0.4502797 , -1.56708498, -0.03625798, -0.27701618],\n",
       "       [-0.1995439 , -1.33578092,  0.71790794,  1.05266147],\n",
       "       [ 0.17655979, -0.87317281,  0.77592071,  0.52079041],\n",
       "       [ 1.05413506, -0.17926064,  0.83393347,  1.45156476],\n",
       "       [-0.4502797 ,  0.97725963, -1.42856429, -1.34075829],\n",
       "       [ 1.30487086,  0.05204341,  0.949959  ,  1.18562923],\n",
       "       [ 0.42729558, -0.4105647 ,  0.3118186 ,  0.12188712],\n",
       "       [ 0.55266348,  0.51465152,  0.54386965,  0.52079041],\n",
       "       [ 2.30781403, -0.64186875,  1.70412492,  1.05266147],\n",
       "       [ 0.67803137,  0.28334747,  0.42784413,  0.38782265],\n",
       "       [ 0.05119189,  0.28334747,  0.60188242,  0.78672594],\n",
       "       [-1.45322287,  0.28334747, -1.42856429, -1.34075829],\n",
       "       [-0.82638338,  0.97725963, -1.31253877, -1.34075829],\n",
       "       [-0.4502797 , -1.56708498,  0.02175479, -0.14404841],\n",
       "       [ 0.42729558,  0.74595558,  0.949959  ,  1.45156476],\n",
       "       [-0.07417601, -1.10447686,  0.13778031, -0.01108065],\n",
       "       [-0.4502797 , -1.10447686,  0.36983136, -0.01108065],\n",
       "       [ 1.30487086,  0.05204341,  0.65989518,  0.38782265],\n",
       "       [-0.3249118 , -0.17926064,  0.42784413,  0.38782265],\n",
       "       [ 1.55560665, -0.17926064,  1.24002281,  1.18562923],\n",
       "       [-1.57859076,  1.20856369, -1.60260258, -1.34075829],\n",
       "       [-0.3249118 , -0.17926064,  0.19579308,  0.12188712],\n",
       "       [-0.07417601, -0.64186875,  0.77592071,  1.58453252],\n",
       "       [ 0.80339927, -0.17926064,  1.00797176,  0.78672594],\n",
       "       [-0.57564759,  1.43986774, -1.31253877, -1.34075829],\n",
       "       [ 1.68097455,  0.28334747,  1.29803557,  0.78672594],\n",
       "       [ 1.17950296,  0.28334747,  1.24002281,  1.45156476],\n",
       "       [ 0.42729558, -2.02969309,  0.42784413,  0.38782265],\n",
       "       [-1.07711918, -1.79838903, -0.26830903, -0.27701618],\n",
       "       [ 1.05413506,  0.05204341,  0.54386965,  0.38782265],\n",
       "       [ 0.67803137, -0.64186875,  1.06598452,  1.18562923],\n",
       "       [ 0.42729558, -0.64186875,  0.60188242,  0.78672594],\n",
       "       [-0.57564759,  1.90247586, -1.42856429, -1.07482276],\n",
       "       [ 0.30192768, -0.64186875,  0.54386965, -0.01108065],\n",
       "       [-0.3249118 , -0.87317281,  0.25380584,  0.12188712],\n",
       "       [-1.82932656,  0.28334747, -1.42856429, -1.34075829],\n",
       "       [ 0.05119189, -0.17926064,  0.77592071,  0.78672594],\n",
       "       [-0.95175128,  0.97725963, -1.37055153, -1.34075829]])"
      ]
     },
     "execution_count": 151,
     "metadata": {},
     "output_type": "execute_result"
    }
   ],
   "source": [
    "standardScaler.transform(X_train)"
   ]
  },
  {
   "cell_type": "code",
   "execution_count": 152,
   "metadata": {},
   "outputs": [
    {
     "data": {
      "text/plain": [
       "array([[6.3, 2.9, 5.6, 1.8],\n",
       "       [5.4, 3.4, 1.7, 0.2],\n",
       "       [6.7, 2.5, 5.8, 1.8],\n",
       "       [6.1, 3. , 4.6, 1.4],\n",
       "       [7. , 3.2, 4.7, 1.4],\n",
       "       [5.4, 3. , 4.5, 1.5],\n",
       "       [6.3, 2.7, 4.9, 1.8],\n",
       "       [6.9, 3.2, 5.7, 2.3],\n",
       "       [5.1, 3.5, 1.4, 0.3],\n",
       "       [6.8, 2.8, 4.8, 1.4],\n",
       "       [6.6, 2.9, 4.6, 1.3],\n",
       "       [5.1, 3.7, 1.5, 0.4],\n",
       "       [6.1, 3. , 4.9, 1.8],\n",
       "       [5.7, 2.9, 4.2, 1.3],\n",
       "       [6.7, 3.1, 4.4, 1.4],\n",
       "       [7.7, 3. , 6.1, 2.3],\n",
       "       [4.5, 2.3, 1.3, 0.3],\n",
       "       [6. , 2.2, 5. , 1.5],\n",
       "       [5. , 3.6, 1.4, 0.2],\n",
       "       [5.1, 3.8, 1.6, 0.2],\n",
       "       [4.9, 3.6, 1.4, 0.1],\n",
       "       [6. , 3. , 4.8, 1.8],\n",
       "       [6.5, 2.8, 4.6, 1.5],\n",
       "       [4.3, 3. , 1.1, 0.1],\n",
       "       [6.3, 2.5, 4.9, 1.5],\n",
       "       [5.4, 3.4, 1.5, 0.4],\n",
       "       [5.8, 2.7, 5.1, 1.9],\n",
       "       [5. , 3.4, 1.6, 0.4],\n",
       "       [5.5, 4.2, 1.4, 0.2],\n",
       "       [6.3, 2.3, 4.4, 1.3],\n",
       "       [6.5, 3.2, 5.1, 2. ],\n",
       "       [4.9, 2.4, 3.3, 1. ],\n",
       "       [5.2, 4.1, 1.5, 0.1],\n",
       "       [5. , 3.3, 1.4, 0.2],\n",
       "       [4.8, 3.4, 1.9, 0.2],\n",
       "       [4.8, 3. , 1.4, 0.3],\n",
       "       [5.8, 2.7, 5.1, 1.9],\n",
       "       [6.4, 3.1, 5.5, 1.8],\n",
       "       [5.7, 2.8, 4.1, 1.3],\n",
       "       [6. , 3.4, 4.5, 1.6],\n",
       "       [5.7, 4.4, 1.5, 0.4],\n",
       "       [5.3, 3.7, 1.5, 0.2],\n",
       "       [6.1, 2.8, 4. , 1.3],\n",
       "       [6.9, 3.1, 5.1, 2.3],\n",
       "       [7.7, 3.8, 6.7, 2.2],\n",
       "       [5.7, 3.8, 1.7, 0.3],\n",
       "       [5.1, 3.8, 1.5, 0.3],\n",
       "       [5. , 3.4, 1.5, 0.2],\n",
       "       [6.7, 3. , 5. , 1.7],\n",
       "       [5. , 3. , 1.6, 0.2],\n",
       "       [6.7, 3.1, 5.6, 2.4],\n",
       "       [6.5, 3. , 5.8, 2.2],\n",
       "       [4.9, 3.1, 1.5, 0.2],\n",
       "       [5.5, 2.5, 4. , 1.3],\n",
       "       [4.4, 3. , 1.3, 0.2],\n",
       "       [5.4, 3.9, 1.7, 0.4],\n",
       "       [5.1, 3.3, 1.7, 0.5],\n",
       "       [5.9, 3. , 4.2, 1.5],\n",
       "       [6.3, 2.8, 5.1, 1.5],\n",
       "       [4.9, 3. , 1.4, 0.2],\n",
       "       [5.7, 2.8, 4.5, 1.3],\n",
       "       [5.2, 3.4, 1.4, 0.2],\n",
       "       [5.7, 2.6, 3.5, 1. ],\n",
       "       [4.6, 3.1, 1.5, 0.2],\n",
       "       [5.1, 2.5, 3. , 1.1],\n",
       "       [6.4, 3.2, 5.3, 2.3],\n",
       "       [4.8, 3.4, 1.6, 0.2],\n",
       "       [7.9, 3.8, 6.4, 2. ],\n",
       "       [5.8, 2.7, 4.1, 1. ],\n",
       "       [5. , 3.2, 1.2, 0.2],\n",
       "       [6.7, 3.3, 5.7, 2.1],\n",
       "       [6. , 2.9, 4.5, 1.5],\n",
       "       [7.3, 2.9, 6.3, 1.8],\n",
       "       [5.1, 3.4, 1.5, 0.2],\n",
       "       [5.6, 2.8, 4.9, 2. ],\n",
       "       [5.6, 2.5, 3.9, 1.1],\n",
       "       [6.7, 3.3, 5.7, 2.5],\n",
       "       [4.9, 2.5, 4.5, 1.7],\n",
       "       [6.6, 3. , 4.4, 1.4],\n",
       "       [6.8, 3. , 5.5, 2.1],\n",
       "       [5.8, 2.7, 3.9, 1.2],\n",
       "       [7.2, 3.6, 6.1, 2.5],\n",
       "       [5.5, 2.4, 3.7, 1. ],\n",
       "       [5.7, 2.5, 5. , 2. ],\n",
       "       [6. , 2.7, 5.1, 1.6],\n",
       "       [6.7, 3. , 5.2, 2.3],\n",
       "       [5.5, 3.5, 1.3, 0.2],\n",
       "       [6.9, 3.1, 5.4, 2.1],\n",
       "       [6.2, 2.9, 4.3, 1.3],\n",
       "       [6.3, 3.3, 4.7, 1.6],\n",
       "       [7.7, 2.8, 6.7, 2. ],\n",
       "       [6.4, 3.2, 4.5, 1.5],\n",
       "       [5.9, 3.2, 4.8, 1.8],\n",
       "       [4.7, 3.2, 1.3, 0.2],\n",
       "       [5.2, 3.5, 1.5, 0.2],\n",
       "       [5.5, 2.4, 3.8, 1.1],\n",
       "       [6.2, 3.4, 5.4, 2.3],\n",
       "       [5.8, 2.6, 4. , 1.2],\n",
       "       [5.5, 2.6, 4.4, 1.2],\n",
       "       [6.9, 3.1, 4.9, 1.5],\n",
       "       [5.6, 3. , 4.5, 1.5],\n",
       "       [7.1, 3. , 5.9, 2.1],\n",
       "       [4.6, 3.6, 1. , 0.2],\n",
       "       [5.6, 3. , 4.1, 1.3],\n",
       "       [5.8, 2.8, 5.1, 2.4],\n",
       "       [6.5, 3. , 5.5, 1.8],\n",
       "       [5.4, 3.7, 1.5, 0.2],\n",
       "       [7.2, 3.2, 6. , 1.8],\n",
       "       [6.8, 3.2, 5.9, 2.3],\n",
       "       [6.2, 2.2, 4.5, 1.5],\n",
       "       [5. , 2.3, 3.3, 1. ],\n",
       "       [6.7, 3.1, 4.7, 1.5],\n",
       "       [6.4, 2.8, 5.6, 2.1],\n",
       "       [6.2, 2.8, 4.8, 1.8],\n",
       "       [5.4, 3.9, 1.3, 0.4],\n",
       "       [6.1, 2.8, 4.7, 1.2],\n",
       "       [5.6, 2.7, 4.2, 1.3],\n",
       "       [4.4, 3.2, 1.3, 0.2],\n",
       "       [5.9, 3. , 5.1, 1.8],\n",
       "       [5.1, 3.5, 1.4, 0.2]])"
      ]
     },
     "execution_count": 152,
     "metadata": {},
     "output_type": "execute_result"
    }
   ],
   "source": [
    "X_train"
   ]
  },
  {
   "cell_type": "code",
   "execution_count": 153,
   "metadata": {},
   "outputs": [],
   "source": [
    "X_train = standardScaler.transform(X_train)"
   ]
  },
  {
   "cell_type": "code",
   "execution_count": 154,
   "metadata": {},
   "outputs": [
    {
     "data": {
      "text/plain": [
       "array([[ 0.55266348, -0.4105647 ,  1.06598452,  0.78672594],\n",
       "       [-0.57564759,  0.74595558, -1.19651324, -1.34075829],\n",
       "       [ 1.05413506, -1.33578092,  1.18201005,  0.78672594],\n",
       "       [ 0.30192768, -0.17926064,  0.48585689,  0.25485488],\n",
       "       [ 1.43023875,  0.28334747,  0.54386965,  0.25485488],\n",
       "       [-0.57564759, -0.17926064,  0.42784413,  0.38782265],\n",
       "       [ 0.55266348, -0.87317281,  0.65989518,  0.78672594],\n",
       "       [ 1.30487086,  0.28334747,  1.12399729,  1.45156476],\n",
       "       [-0.95175128,  0.97725963, -1.37055153, -1.20779052],\n",
       "       [ 1.17950296, -0.64186875,  0.60188242,  0.25485488],\n",
       "       [ 0.92876717, -0.4105647 ,  0.48585689,  0.12188712],\n",
       "       [-0.95175128,  1.43986774, -1.31253877, -1.07482276],\n",
       "       [ 0.30192768, -0.17926064,  0.65989518,  0.78672594],\n",
       "       [-0.1995439 , -0.4105647 ,  0.25380584,  0.12188712],\n",
       "       [ 1.05413506,  0.05204341,  0.36983136,  0.25485488],\n",
       "       [ 2.30781403, -0.17926064,  1.35604834,  1.45156476],\n",
       "       [-1.70395866, -1.79838903, -1.42856429, -1.20779052],\n",
       "       [ 0.17655979, -2.02969309,  0.71790794,  0.38782265],\n",
       "       [-1.07711918,  1.20856369, -1.37055153, -1.34075829],\n",
       "       [-0.95175128,  1.6711718 , -1.254526  , -1.34075829],\n",
       "       [-1.20248707,  1.20856369, -1.37055153, -1.47372605],\n",
       "       [ 0.17655979, -0.17926064,  0.60188242,  0.78672594],\n",
       "       [ 0.80339927, -0.64186875,  0.48585689,  0.38782265],\n",
       "       [-1.95469445, -0.17926064, -1.54458982, -1.47372605],\n",
       "       [ 0.55266348, -1.33578092,  0.65989518,  0.38782265],\n",
       "       [-0.57564759,  0.74595558, -1.31253877, -1.07482276],\n",
       "       [-0.07417601, -0.87317281,  0.77592071,  0.9196937 ],\n",
       "       [-1.07711918,  0.74595558, -1.254526  , -1.07482276],\n",
       "       [-0.4502797 ,  2.59638802, -1.37055153, -1.34075829],\n",
       "       [ 0.55266348, -1.79838903,  0.36983136,  0.12188712],\n",
       "       [ 0.80339927,  0.28334747,  0.77592071,  1.05266147],\n",
       "       [-1.20248707, -1.56708498, -0.26830903, -0.27701618],\n",
       "       [-0.82638338,  2.36508397, -1.31253877, -1.47372605],\n",
       "       [-1.07711918,  0.51465152, -1.37055153, -1.34075829],\n",
       "       [-1.32785497,  0.74595558, -1.08048771, -1.34075829],\n",
       "       [-1.32785497, -0.17926064, -1.37055153, -1.20779052],\n",
       "       [-0.07417601, -0.87317281,  0.77592071,  0.9196937 ],\n",
       "       [ 0.67803137,  0.05204341,  1.00797176,  0.78672594],\n",
       "       [-0.1995439 , -0.64186875,  0.19579308,  0.12188712],\n",
       "       [ 0.17655979,  0.74595558,  0.42784413,  0.52079041],\n",
       "       [-0.1995439 ,  3.05899613, -1.31253877, -1.07482276],\n",
       "       [-0.70101549,  1.43986774, -1.31253877, -1.34075829],\n",
       "       [ 0.30192768, -0.64186875,  0.13778031,  0.12188712],\n",
       "       [ 1.30487086,  0.05204341,  0.77592071,  1.45156476],\n",
       "       [ 2.30781403,  1.6711718 ,  1.70412492,  1.31859699],\n",
       "       [-0.1995439 ,  1.6711718 , -1.19651324, -1.20779052],\n",
       "       [-0.95175128,  1.6711718 , -1.31253877, -1.20779052],\n",
       "       [-1.07711918,  0.74595558, -1.31253877, -1.34075829],\n",
       "       [ 1.05413506, -0.17926064,  0.71790794,  0.65375817],\n",
       "       [-1.07711918, -0.17926064, -1.254526  , -1.34075829],\n",
       "       [ 1.05413506,  0.05204341,  1.06598452,  1.58453252],\n",
       "       [ 0.80339927, -0.17926064,  1.18201005,  1.31859699],\n",
       "       [-1.20248707,  0.05204341, -1.31253877, -1.34075829],\n",
       "       [-0.4502797 , -1.33578092,  0.13778031,  0.12188712],\n",
       "       [-1.82932656, -0.17926064, -1.42856429, -1.34075829],\n",
       "       [-0.57564759,  1.90247586, -1.19651324, -1.07482276],\n",
       "       [-0.95175128,  0.51465152, -1.19651324, -0.941855  ],\n",
       "       [ 0.05119189, -0.17926064,  0.25380584,  0.38782265],\n",
       "       [ 0.55266348, -0.64186875,  0.77592071,  0.38782265],\n",
       "       [-1.20248707, -0.17926064, -1.37055153, -1.34075829],\n",
       "       [-0.1995439 , -0.64186875,  0.42784413,  0.12188712],\n",
       "       [-0.82638338,  0.74595558, -1.37055153, -1.34075829],\n",
       "       [-0.1995439 , -1.10447686, -0.1522835 , -0.27701618],\n",
       "       [-1.57859076,  0.05204341, -1.31253877, -1.34075829],\n",
       "       [-0.95175128, -1.33578092, -0.44234732, -0.14404841],\n",
       "       [ 0.67803137,  0.28334747,  0.89194623,  1.45156476],\n",
       "       [-1.32785497,  0.74595558, -1.254526  , -1.34075829],\n",
       "       [ 2.55854982,  1.6711718 ,  1.53008663,  1.05266147],\n",
       "       [-0.07417601, -0.87317281,  0.19579308, -0.27701618],\n",
       "       [-1.07711918,  0.28334747, -1.48657706, -1.34075829],\n",
       "       [ 1.05413506,  0.51465152,  1.12399729,  1.18562923],\n",
       "       [ 0.17655979, -0.4105647 ,  0.42784413,  0.38782265],\n",
       "       [ 1.80634244, -0.4105647 ,  1.47207386,  0.78672594],\n",
       "       [-0.95175128,  0.74595558, -1.31253877, -1.34075829],\n",
       "       [-0.3249118 , -0.64186875,  0.65989518,  1.05266147],\n",
       "       [-0.3249118 , -1.33578092,  0.07976755, -0.14404841],\n",
       "       [ 1.05413506,  0.51465152,  1.12399729,  1.71750029],\n",
       "       [-1.20248707, -1.33578092,  0.42784413,  0.65375817],\n",
       "       [ 0.92876717, -0.17926064,  0.36983136,  0.25485488],\n",
       "       [ 1.17950296, -0.17926064,  1.00797176,  1.18562923],\n",
       "       [-0.07417601, -0.87317281,  0.07976755, -0.01108065],\n",
       "       [ 1.68097455,  1.20856369,  1.35604834,  1.71750029],\n",
       "       [-0.4502797 , -1.56708498, -0.03625798, -0.27701618],\n",
       "       [-0.1995439 , -1.33578092,  0.71790794,  1.05266147],\n",
       "       [ 0.17655979, -0.87317281,  0.77592071,  0.52079041],\n",
       "       [ 1.05413506, -0.17926064,  0.83393347,  1.45156476],\n",
       "       [-0.4502797 ,  0.97725963, -1.42856429, -1.34075829],\n",
       "       [ 1.30487086,  0.05204341,  0.949959  ,  1.18562923],\n",
       "       [ 0.42729558, -0.4105647 ,  0.3118186 ,  0.12188712],\n",
       "       [ 0.55266348,  0.51465152,  0.54386965,  0.52079041],\n",
       "       [ 2.30781403, -0.64186875,  1.70412492,  1.05266147],\n",
       "       [ 0.67803137,  0.28334747,  0.42784413,  0.38782265],\n",
       "       [ 0.05119189,  0.28334747,  0.60188242,  0.78672594],\n",
       "       [-1.45322287,  0.28334747, -1.42856429, -1.34075829],\n",
       "       [-0.82638338,  0.97725963, -1.31253877, -1.34075829],\n",
       "       [-0.4502797 , -1.56708498,  0.02175479, -0.14404841],\n",
       "       [ 0.42729558,  0.74595558,  0.949959  ,  1.45156476],\n",
       "       [-0.07417601, -1.10447686,  0.13778031, -0.01108065],\n",
       "       [-0.4502797 , -1.10447686,  0.36983136, -0.01108065],\n",
       "       [ 1.30487086,  0.05204341,  0.65989518,  0.38782265],\n",
       "       [-0.3249118 , -0.17926064,  0.42784413,  0.38782265],\n",
       "       [ 1.55560665, -0.17926064,  1.24002281,  1.18562923],\n",
       "       [-1.57859076,  1.20856369, -1.60260258, -1.34075829],\n",
       "       [-0.3249118 , -0.17926064,  0.19579308,  0.12188712],\n",
       "       [-0.07417601, -0.64186875,  0.77592071,  1.58453252],\n",
       "       [ 0.80339927, -0.17926064,  1.00797176,  0.78672594],\n",
       "       [-0.57564759,  1.43986774, -1.31253877, -1.34075829],\n",
       "       [ 1.68097455,  0.28334747,  1.29803557,  0.78672594],\n",
       "       [ 1.17950296,  0.28334747,  1.24002281,  1.45156476],\n",
       "       [ 0.42729558, -2.02969309,  0.42784413,  0.38782265],\n",
       "       [-1.07711918, -1.79838903, -0.26830903, -0.27701618],\n",
       "       [ 1.05413506,  0.05204341,  0.54386965,  0.38782265],\n",
       "       [ 0.67803137, -0.64186875,  1.06598452,  1.18562923],\n",
       "       [ 0.42729558, -0.64186875,  0.60188242,  0.78672594],\n",
       "       [-0.57564759,  1.90247586, -1.42856429, -1.07482276],\n",
       "       [ 0.30192768, -0.64186875,  0.54386965, -0.01108065],\n",
       "       [-0.3249118 , -0.87317281,  0.25380584,  0.12188712],\n",
       "       [-1.82932656,  0.28334747, -1.42856429, -1.34075829],\n",
       "       [ 0.05119189, -0.17926064,  0.77592071,  0.78672594],\n",
       "       [-0.95175128,  0.97725963, -1.37055153, -1.34075829]])"
      ]
     },
     "execution_count": 154,
     "metadata": {},
     "output_type": "execute_result"
    }
   ],
   "source": [
    "X_train"
   ]
  },
  {
   "cell_type": "code",
   "execution_count": 155,
   "metadata": {},
   "outputs": [],
   "source": [
    "X_test_standard = standardScaler.transform(X_test)"
   ]
  },
  {
   "cell_type": "code",
   "execution_count": 156,
   "metadata": {},
   "outputs": [
    {
     "data": {
      "text/plain": [
       "array([[-0.82638338, -0.87317281,  0.07976755,  0.25485488],\n",
       "       [-1.07711918,  0.97725963, -1.42856429, -1.20779052],\n",
       "       [ 1.68097455, -0.17926064,  1.18201005,  0.52079041],\n",
       "       [-1.20248707,  0.05204341, -1.31253877, -1.47372605],\n",
       "       [-1.07711918, -2.4923012 , -0.1522835 , -0.27701618],\n",
       "       [-1.57859076,  0.74595558, -1.37055153, -1.20779052],\n",
       "       [ 0.67803137, -0.87317281,  0.89194623,  0.9196937 ],\n",
       "       [ 0.30192768, -0.4105647 ,  0.54386965,  0.25485488],\n",
       "       [-0.95175128,  1.6711718 , -1.08048771, -1.07482276],\n",
       "       [-0.1995439 , -0.17926064,  0.25380584, -0.01108065],\n",
       "       [-1.07711918,  0.97725963, -1.254526  , -0.80888723],\n",
       "       [ 0.55266348,  0.74595558,  1.06598452,  1.58453252],\n",
       "       [ 1.93171034, -0.64186875,  1.35604834,  0.9196937 ],\n",
       "       [-1.32785497, -0.17926064, -1.37055153, -1.47372605],\n",
       "       [-0.07417601,  2.13377991, -1.48657706, -1.34075829],\n",
       "       [-1.82932656, -0.4105647 , -1.37055153, -1.34075829],\n",
       "       [ 0.17655979, -2.02969309,  0.13778031, -0.27701618],\n",
       "       [-1.32785497,  0.05204341, -1.254526  , -1.34075829],\n",
       "       [ 0.55266348,  0.51465152,  1.29803557,  1.71750029],\n",
       "       [ 2.18244613, -0.17926064,  1.64611215,  1.18562923],\n",
       "       [ 0.30192768, -1.10447686,  1.06598452,  0.25485488],\n",
       "       [-0.3249118 , -0.4105647 , -0.09427074,  0.12188712],\n",
       "       [ 0.67803137, -0.4105647 ,  0.3118186 ,  0.12188712],\n",
       "       [ 0.67803137, -0.64186875,  1.06598452,  1.31859699],\n",
       "       [-1.45322287,  0.28334747, -1.254526  , -1.34075829],\n",
       "       [-1.57859076,  0.28334747, -1.37055153, -1.34075829],\n",
       "       [ 2.30781403, -1.10447686,  1.82015044,  1.45156476],\n",
       "       [ 0.80339927, -0.17926064,  0.83393347,  1.05266147],\n",
       "       [ 0.55266348, -1.33578092,  0.71790794,  0.9196937 ],\n",
       "       [-0.4502797 , -1.79838903,  0.13778031,  0.12188712]])"
      ]
     },
     "execution_count": 156,
     "metadata": {},
     "output_type": "execute_result"
    }
   ],
   "source": [
    "X_test_standard"
   ]
  },
  {
   "cell_type": "code",
   "execution_count": 157,
   "metadata": {},
   "outputs": [],
   "source": [
    "from sklearn.neighbors import KNeighborsClassifier"
   ]
  },
  {
   "cell_type": "code",
   "execution_count": 158,
   "metadata": {},
   "outputs": [],
   "source": [
    "knn_clf = KNeighborsClassifier(n_neighbors=3)"
   ]
  },
  {
   "cell_type": "code",
   "execution_count": 159,
   "metadata": {},
   "outputs": [
    {
     "data": {
      "text/plain": [
       "KNeighborsClassifier(algorithm='auto', leaf_size=30, metric='minkowski',\n",
       "                     metric_params=None, n_jobs=None, n_neighbors=3, p=2,\n",
       "                     weights='uniform')"
      ]
     },
     "execution_count": 159,
     "metadata": {},
     "output_type": "execute_result"
    }
   ],
   "source": [
    "knn_clf.fit(X_train, y_train)"
   ]
  },
  {
   "cell_type": "code",
   "execution_count": 160,
   "metadata": {},
   "outputs": [
    {
     "data": {
      "text/plain": [
       "0.9666666666666667"
      ]
     },
     "execution_count": 160,
     "metadata": {},
     "output_type": "execute_result"
    }
   ],
   "source": [
    "knn_clf.score(X_test_standard, y_test)"
   ]
  },
  {
   "cell_type": "code",
   "execution_count": 162,
   "metadata": {},
   "outputs": [
    {
     "data": {
      "text/plain": [
       "0.36666666666666664"
      ]
     },
     "execution_count": 162,
     "metadata": {},
     "output_type": "execute_result"
    }
   ],
   "source": [
    "knn_clf.score(X_test, y_test)"
   ]
  },
  {
   "cell_type": "markdown",
   "metadata": {},
   "source": [
    "## 五、总结"
   ]
  },
  {
   "cell_type": "markdown",
   "metadata": {},
   "source": [
    "### k近邻算法总结"
   ]
  },
  {
   "cell_type": "markdown",
   "metadata": {},
   "source": [
    "#### 1、解决问题：\n",
    "#### （1）解决分类问题（天然可以解决多分类问题），思想简单，效果强大\n",
    "#### （2）解决回归问题（最近k个节点对应值的平均值，可以考虑加权平均），sklearn KNeighborsRegressor\n",
    "#### 2、存在缺点：\n",
    "#### （1）效率低下（训练集m个样本，n个特征，则预测每一个新的数据需要O(m*n)），使用树结构（KD-Tree、Ball-Tree）优化\n",
    "#### （2）高度数据相关\n",
    "#### （3）预测结果不具有可解释性\n",
    "#### （4）维数灾难（随着维度的增加，看似相近的两个点之间的距离越来越大），解决方法：降维"
   ]
  },
  {
   "cell_type": "markdown",
   "metadata": {},
   "source": [
    "### 机器学习（kNN）流程"
   ]
  },
  {
   "cell_type": "markdown",
   "metadata": {},
   "source": [
    "#### 1、数据集划分（训练数据集、测试数据集）\n",
    "#### 2、数据归一化（训练数据和测试数据均需Scaler）\n",
    "#### 3、模型训练\n",
    "#### 4、模型预测（分类准确度accuracy）\n",
    "#### 5、使用网格搜索寻找最好的超参数"
   ]
  },
  {
   "attachments": {
    "image.png": {
     "image/png": "[encoded data removed]"
    }
   },
   "cell_type": "markdown",
   "metadata": {},
   "source": [
    "![image.png](attachment:image.png)"
   ]
  }
 ],
 "metadata": {
  "kernelspec": {
   "display_name": "Python 3",
   "language": "python",
   "name": "python3"
  },
  "language_info": {
   "codemirror_mode": {
    "name": "ipython",
    "version": 3
   },
   "file_extension": ".py",
   "mimetype": "text/x-python",
   "name": "python",
   "nbconvert_exporter": "python",
   "pygments_lexer": "ipython3",
   "version": "3.7.6"
  }
 },
 "nbformat": 4,
 "nbformat_minor": 4
}
